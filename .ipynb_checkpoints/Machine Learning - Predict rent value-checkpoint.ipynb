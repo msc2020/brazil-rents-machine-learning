{
 "cells": [
  {
   "cell_type": "markdown",
   "id": "90d1a12c",
   "metadata": {},
   "source": [
    "<div style='text-align: right'><i>2022-08</i></div>\n"
   ]
  },
  {
   "cell_type": "markdown",
   "id": "e61237a8",
   "metadata": {},
   "source": [
    "<div style='background-color: rgba(76, 175, 80, 0.3)'>\n",
    "\n",
    "# ML for predict rent value\n",
    "\n",
    "Predict the rent value from associated attributes.\n",
    "\n",
    "</div>"
   ]
  },
  {
   "cell_type": "markdown",
   "id": "d7e857ce",
   "metadata": {},
   "source": [
    "# Load libraries and define auxiliary functions\n",
    "___"
   ]
  },
  {
   "cell_type": "code",
   "execution_count": 1,
   "id": "b40fa316",
   "metadata": {},
   "outputs": [],
   "source": [
    "import numpy as np\n",
    "import pandas as pd\n",
    "\n",
    "import matplotlib.pyplot as plt\n",
    "from pandas.plotting import scatter_matrix\n",
    "\n",
    "SMALL_SIZE = 14\n",
    "MEDIUM_SIZE = 16\n",
    "BIGGER_SIZE = 18\n",
    "plt.rc('font', size=SMALL_SIZE)          \n",
    "plt.rc('axes', titlesize=SMALL_SIZE)     \n",
    "plt.rc('axes', labelsize=MEDIUM_SIZE)    \n",
    "plt.rc('xtick', labelsize=SMALL_SIZE)    \n",
    "plt.rc('ytick', labelsize=SMALL_SIZE)    \n",
    "plt.rc('legend', fontsize=SMALL_SIZE)    \n",
    "plt.rc('figure', titlesize=BIGGER_SIZE)\n",
    "np.random.seed(42)\n",
    "\n",
    "from sklearn.model_selection import train_test_split\n",
    "from sklearn.model_selection import StratifiedShuffleSplit\n",
    "from sklearn.model_selection import cross_val_score\n",
    "from sklearn.preprocessing import OrdinalEncoder\n",
    "from sklearn.metrics import mean_squared_error\n",
    "from sklearn.metrics import mean_absolute_error\n",
    "from sklearn.model_selection import GridSearchCV\n",
    "from sklearn.model_selection import RandomizedSearchCV\n",
    "\n",
    "from scipy.stats import randint\n",
    "\n",
    "import os"
   ]
  },
  {
   "cell_type": "markdown",
   "id": "351d1fe2",
   "metadata": {},
   "source": [
    "# About Dataset\n",
    "___\n",
    "\n",
    "Houses to rent data (2020).\n",
    "\n",
    "### Description\n",
    "This dataset contains 10962 houses to rent with 13 diferent features.\n",
    "\n",
    "\n",
    "### FAQ\n",
    "\n",
    "**Outliers**\n",
    "\n",
    "Could be some values in dataset that can be consider outlier to analysis. Bearing in mind that a Web Crawler only to get the data, it´s possible find some errors like registration error.\n",
    "\n",
    "**Changes in data between versions of dataset**\n",
    "\n",
    "Since the o WebCrawler was runned in differents days to each version of dataset, there may be differences like adding or deleting houses (in addition to the cities added).\n",
    "\n",
    "I do not own any of these data, they were all taken from information available for free on the internet and compiled just for easy access.\n",
    "\n",
    "**Download dataset and description above:** https://www.kaggle.com/datasets/rubenssjr/brasilian-houses-to-rent\n"
   ]
  },
  {
   "cell_type": "markdown",
   "id": "0c390cc3",
   "metadata": {},
   "source": [
    "# Load Dataset\n",
    "___"
   ]
  },
  {
   "cell_type": "code",
   "execution_count": 2,
   "id": "b3f0e505",
   "metadata": {},
   "outputs": [],
   "source": [
    "# auxiliary functions\n",
    "path = os.path.join('datasets', 'rents-brazil')\n",
    "def load_dataset(path=path):\n",
    "    csv_path = os.path.join(path, 'houses_to_rent_v2.csv')\n",
    "    return pd.read_csv(csv_path)"
   ]
  },
  {
   "cell_type": "code",
   "execution_count": 3,
   "id": "cb993a63",
   "metadata": {},
   "outputs": [
    {
     "data": {
      "text/html": [
       "<div>\n",
       "<style scoped>\n",
       "    .dataframe tbody tr th:only-of-type {\n",
       "        vertical-align: middle;\n",
       "    }\n",
       "\n",
       "    .dataframe tbody tr th {\n",
       "        vertical-align: top;\n",
       "    }\n",
       "\n",
       "    .dataframe thead th {\n",
       "        text-align: right;\n",
       "    }\n",
       "</style>\n",
       "<table border=\"1\" class=\"dataframe\">\n",
       "  <thead>\n",
       "    <tr style=\"text-align: right;\">\n",
       "      <th></th>\n",
       "      <th>city</th>\n",
       "      <th>area</th>\n",
       "      <th>rooms</th>\n",
       "      <th>bathroom</th>\n",
       "      <th>parking spaces</th>\n",
       "      <th>floor</th>\n",
       "      <th>animal</th>\n",
       "      <th>furniture</th>\n",
       "      <th>hoa (R$)</th>\n",
       "      <th>rent amount (R$)</th>\n",
       "      <th>property tax (R$)</th>\n",
       "      <th>fire insurance (R$)</th>\n",
       "      <th>total (R$)</th>\n",
       "    </tr>\n",
       "  </thead>\n",
       "  <tbody>\n",
       "    <tr>\n",
       "      <th>0</th>\n",
       "      <td>São Paulo</td>\n",
       "      <td>70</td>\n",
       "      <td>2</td>\n",
       "      <td>1</td>\n",
       "      <td>1</td>\n",
       "      <td>7</td>\n",
       "      <td>acept</td>\n",
       "      <td>furnished</td>\n",
       "      <td>2065</td>\n",
       "      <td>3300</td>\n",
       "      <td>211</td>\n",
       "      <td>42</td>\n",
       "      <td>5618</td>\n",
       "    </tr>\n",
       "    <tr>\n",
       "      <th>1</th>\n",
       "      <td>São Paulo</td>\n",
       "      <td>320</td>\n",
       "      <td>4</td>\n",
       "      <td>4</td>\n",
       "      <td>0</td>\n",
       "      <td>20</td>\n",
       "      <td>acept</td>\n",
       "      <td>not furnished</td>\n",
       "      <td>1200</td>\n",
       "      <td>4960</td>\n",
       "      <td>1750</td>\n",
       "      <td>63</td>\n",
       "      <td>7973</td>\n",
       "    </tr>\n",
       "    <tr>\n",
       "      <th>2</th>\n",
       "      <td>Porto Alegre</td>\n",
       "      <td>80</td>\n",
       "      <td>1</td>\n",
       "      <td>1</td>\n",
       "      <td>1</td>\n",
       "      <td>6</td>\n",
       "      <td>acept</td>\n",
       "      <td>not furnished</td>\n",
       "      <td>1000</td>\n",
       "      <td>2800</td>\n",
       "      <td>0</td>\n",
       "      <td>41</td>\n",
       "      <td>3841</td>\n",
       "    </tr>\n",
       "    <tr>\n",
       "      <th>3</th>\n",
       "      <td>Porto Alegre</td>\n",
       "      <td>51</td>\n",
       "      <td>2</td>\n",
       "      <td>1</td>\n",
       "      <td>0</td>\n",
       "      <td>2</td>\n",
       "      <td>acept</td>\n",
       "      <td>not furnished</td>\n",
       "      <td>270</td>\n",
       "      <td>1112</td>\n",
       "      <td>22</td>\n",
       "      <td>17</td>\n",
       "      <td>1421</td>\n",
       "    </tr>\n",
       "    <tr>\n",
       "      <th>4</th>\n",
       "      <td>São Paulo</td>\n",
       "      <td>25</td>\n",
       "      <td>1</td>\n",
       "      <td>1</td>\n",
       "      <td>0</td>\n",
       "      <td>1</td>\n",
       "      <td>not acept</td>\n",
       "      <td>not furnished</td>\n",
       "      <td>0</td>\n",
       "      <td>800</td>\n",
       "      <td>25</td>\n",
       "      <td>11</td>\n",
       "      <td>836</td>\n",
       "    </tr>\n",
       "    <tr>\n",
       "      <th>...</th>\n",
       "      <td>...</td>\n",
       "      <td>...</td>\n",
       "      <td>...</td>\n",
       "      <td>...</td>\n",
       "      <td>...</td>\n",
       "      <td>...</td>\n",
       "      <td>...</td>\n",
       "      <td>...</td>\n",
       "      <td>...</td>\n",
       "      <td>...</td>\n",
       "      <td>...</td>\n",
       "      <td>...</td>\n",
       "      <td>...</td>\n",
       "    </tr>\n",
       "    <tr>\n",
       "      <th>10687</th>\n",
       "      <td>Porto Alegre</td>\n",
       "      <td>63</td>\n",
       "      <td>2</td>\n",
       "      <td>1</td>\n",
       "      <td>1</td>\n",
       "      <td>5</td>\n",
       "      <td>not acept</td>\n",
       "      <td>furnished</td>\n",
       "      <td>402</td>\n",
       "      <td>1478</td>\n",
       "      <td>24</td>\n",
       "      <td>22</td>\n",
       "      <td>1926</td>\n",
       "    </tr>\n",
       "    <tr>\n",
       "      <th>10688</th>\n",
       "      <td>São Paulo</td>\n",
       "      <td>285</td>\n",
       "      <td>4</td>\n",
       "      <td>4</td>\n",
       "      <td>4</td>\n",
       "      <td>17</td>\n",
       "      <td>acept</td>\n",
       "      <td>not furnished</td>\n",
       "      <td>3100</td>\n",
       "      <td>15000</td>\n",
       "      <td>973</td>\n",
       "      <td>191</td>\n",
       "      <td>19260</td>\n",
       "    </tr>\n",
       "    <tr>\n",
       "      <th>10689</th>\n",
       "      <td>Rio de Janeiro</td>\n",
       "      <td>70</td>\n",
       "      <td>3</td>\n",
       "      <td>3</td>\n",
       "      <td>0</td>\n",
       "      <td>8</td>\n",
       "      <td>not acept</td>\n",
       "      <td>furnished</td>\n",
       "      <td>980</td>\n",
       "      <td>6000</td>\n",
       "      <td>332</td>\n",
       "      <td>78</td>\n",
       "      <td>7390</td>\n",
       "    </tr>\n",
       "    <tr>\n",
       "      <th>10690</th>\n",
       "      <td>Rio de Janeiro</td>\n",
       "      <td>120</td>\n",
       "      <td>2</td>\n",
       "      <td>2</td>\n",
       "      <td>2</td>\n",
       "      <td>8</td>\n",
       "      <td>acept</td>\n",
       "      <td>furnished</td>\n",
       "      <td>1585</td>\n",
       "      <td>12000</td>\n",
       "      <td>279</td>\n",
       "      <td>155</td>\n",
       "      <td>14020</td>\n",
       "    </tr>\n",
       "    <tr>\n",
       "      <th>10691</th>\n",
       "      <td>São Paulo</td>\n",
       "      <td>80</td>\n",
       "      <td>2</td>\n",
       "      <td>1</td>\n",
       "      <td>0</td>\n",
       "      <td>-</td>\n",
       "      <td>acept</td>\n",
       "      <td>not furnished</td>\n",
       "      <td>0</td>\n",
       "      <td>1400</td>\n",
       "      <td>165</td>\n",
       "      <td>22</td>\n",
       "      <td>1587</td>\n",
       "    </tr>\n",
       "  </tbody>\n",
       "</table>\n",
       "<p>10692 rows × 13 columns</p>\n",
       "</div>"
      ],
      "text/plain": [
       "                 city  area  rooms  bathroom  parking spaces floor     animal  \\\n",
       "0           São Paulo    70      2         1               1     7      acept   \n",
       "1           São Paulo   320      4         4               0    20      acept   \n",
       "2        Porto Alegre    80      1         1               1     6      acept   \n",
       "3        Porto Alegre    51      2         1               0     2      acept   \n",
       "4           São Paulo    25      1         1               0     1  not acept   \n",
       "...               ...   ...    ...       ...             ...   ...        ...   \n",
       "10687    Porto Alegre    63      2         1               1     5  not acept   \n",
       "10688       São Paulo   285      4         4               4    17      acept   \n",
       "10689  Rio de Janeiro    70      3         3               0     8  not acept   \n",
       "10690  Rio de Janeiro   120      2         2               2     8      acept   \n",
       "10691       São Paulo    80      2         1               0     -      acept   \n",
       "\n",
       "           furniture  hoa (R$)  rent amount (R$)  property tax (R$)  \\\n",
       "0          furnished      2065              3300                211   \n",
       "1      not furnished      1200              4960               1750   \n",
       "2      not furnished      1000              2800                  0   \n",
       "3      not furnished       270              1112                 22   \n",
       "4      not furnished         0               800                 25   \n",
       "...              ...       ...               ...                ...   \n",
       "10687      furnished       402              1478                 24   \n",
       "10688  not furnished      3100             15000                973   \n",
       "10689      furnished       980              6000                332   \n",
       "10690      furnished      1585             12000                279   \n",
       "10691  not furnished         0              1400                165   \n",
       "\n",
       "       fire insurance (R$)  total (R$)  \n",
       "0                       42        5618  \n",
       "1                       63        7973  \n",
       "2                       41        3841  \n",
       "3                       17        1421  \n",
       "4                       11         836  \n",
       "...                    ...         ...  \n",
       "10687                   22        1926  \n",
       "10688                  191       19260  \n",
       "10689                   78        7390  \n",
       "10690                  155       14020  \n",
       "10691                   22        1587  \n",
       "\n",
       "[10692 rows x 13 columns]"
      ]
     },
     "execution_count": 3,
     "metadata": {},
     "output_type": "execute_result"
    }
   ],
   "source": [
    "dataset = load_dataset()\n",
    "dataset"
   ]
  },
  {
   "cell_type": "code",
   "execution_count": 4,
   "id": "7b727bbb",
   "metadata": {},
   "outputs": [
    {
     "name": "stdout",
     "output_type": "stream",
     "text": [
      "<class 'pandas.core.frame.DataFrame'>\n",
      "RangeIndex: 10692 entries, 0 to 10691\n",
      "Data columns (total 13 columns):\n",
      " #   Column               Non-Null Count  Dtype \n",
      "---  ------               --------------  ----- \n",
      " 0   city                 10692 non-null  object\n",
      " 1   area                 10692 non-null  int64 \n",
      " 2   rooms                10692 non-null  int64 \n",
      " 3   bathroom             10692 non-null  int64 \n",
      " 4   parking spaces       10692 non-null  int64 \n",
      " 5   floor                10692 non-null  object\n",
      " 6   animal               10692 non-null  object\n",
      " 7   furniture            10692 non-null  object\n",
      " 8   hoa (R$)             10692 non-null  int64 \n",
      " 9   rent amount (R$)     10692 non-null  int64 \n",
      " 10  property tax (R$)    10692 non-null  int64 \n",
      " 11  fire insurance (R$)  10692 non-null  int64 \n",
      " 12  total (R$)           10692 non-null  int64 \n",
      "dtypes: int64(9), object(4)\n",
      "memory usage: 1.1+ MB\n"
     ]
    }
   ],
   "source": [
    "dataset.info()"
   ]
  },
  {
   "cell_type": "markdown",
   "id": "79acebfd",
   "metadata": {},
   "source": [
    "<a id='var_descriptions'></a>\n",
    "\n",
    "## Features:\n",
    "  - `city`: city where the property is located\n",
    "  - `area`: property area\n",
    "  - `rooms`: n. of rooms\n",
    "  - `bathroom`: n. of bathrooms\n",
    "  - `parking spaces`: n. of spaces available in \"garage\"\n",
    "  - `floor` - What is the floor?\n",
    "  - `animal` - Do you accept animals?\n",
    "  - `furniture` - furniture? (there are table, chair, etc.)\n",
    "  - `hoa`: Homeowners association tax (condominium fee)\n",
    "  - `property tax` - IPTU / property tax\n",
    "  - `rent amount` - rental price\n",
    "  - `fire insurance` - fire insurance\n",
    "  - `total`: total value\n",
    "  \n",
    "[Go ahead](#add_features)."
   ]
  },
  {
   "cell_type": "markdown",
   "id": "286fc13f",
   "metadata": {},
   "source": [
    "# Explore dataset\n",
    "___"
   ]
  },
  {
   "cell_type": "markdown",
   "id": "70e053b3",
   "metadata": {},
   "source": [
    "## Attribute `total (R$)`"
   ]
  },
  {
   "cell_type": "markdown",
   "id": "430b86de",
   "metadata": {},
   "source": [
    "### Question:\n",
    "\n",
    "Is the rent total value `total` equal the sum of `rent amount` plus `property tax` plus `fire insurance` ?"
   ]
  },
  {
   "cell_type": "code",
   "execution_count": 5,
   "id": "0b9fd931",
   "metadata": {},
   "outputs": [
    {
     "data": {
      "text/html": [
       "<div>\n",
       "<style scoped>\n",
       "    .dataframe tbody tr th:only-of-type {\n",
       "        vertical-align: middle;\n",
       "    }\n",
       "\n",
       "    .dataframe tbody tr th {\n",
       "        vertical-align: top;\n",
       "    }\n",
       "\n",
       "    .dataframe thead th {\n",
       "        text-align: right;\n",
       "    }\n",
       "</style>\n",
       "<table border=\"1\" class=\"dataframe\">\n",
       "  <thead>\n",
       "    <tr style=\"text-align: right;\">\n",
       "      <th></th>\n",
       "      <th>city</th>\n",
       "      <th>area</th>\n",
       "      <th>rooms</th>\n",
       "      <th>bathroom</th>\n",
       "      <th>parking spaces</th>\n",
       "      <th>floor</th>\n",
       "      <th>animal</th>\n",
       "      <th>furniture</th>\n",
       "      <th>hoa (R$)</th>\n",
       "      <th>rent amount (R$)</th>\n",
       "      <th>property tax (R$)</th>\n",
       "      <th>fire insurance (R$)</th>\n",
       "      <th>total (R$)</th>\n",
       "      <th>diff</th>\n",
       "    </tr>\n",
       "  </thead>\n",
       "  <tbody>\n",
       "    <tr>\n",
       "      <th>0</th>\n",
       "      <td>São Paulo</td>\n",
       "      <td>70</td>\n",
       "      <td>2</td>\n",
       "      <td>1</td>\n",
       "      <td>1</td>\n",
       "      <td>7</td>\n",
       "      <td>acept</td>\n",
       "      <td>furnished</td>\n",
       "      <td>2065</td>\n",
       "      <td>3300</td>\n",
       "      <td>211</td>\n",
       "      <td>42</td>\n",
       "      <td>5618</td>\n",
       "      <td>0</td>\n",
       "    </tr>\n",
       "    <tr>\n",
       "      <th>1</th>\n",
       "      <td>São Paulo</td>\n",
       "      <td>320</td>\n",
       "      <td>4</td>\n",
       "      <td>4</td>\n",
       "      <td>0</td>\n",
       "      <td>20</td>\n",
       "      <td>acept</td>\n",
       "      <td>not furnished</td>\n",
       "      <td>1200</td>\n",
       "      <td>4960</td>\n",
       "      <td>1750</td>\n",
       "      <td>63</td>\n",
       "      <td>7973</td>\n",
       "      <td>0</td>\n",
       "    </tr>\n",
       "    <tr>\n",
       "      <th>2</th>\n",
       "      <td>Porto Alegre</td>\n",
       "      <td>80</td>\n",
       "      <td>1</td>\n",
       "      <td>1</td>\n",
       "      <td>1</td>\n",
       "      <td>6</td>\n",
       "      <td>acept</td>\n",
       "      <td>not furnished</td>\n",
       "      <td>1000</td>\n",
       "      <td>2800</td>\n",
       "      <td>0</td>\n",
       "      <td>41</td>\n",
       "      <td>3841</td>\n",
       "      <td>0</td>\n",
       "    </tr>\n",
       "    <tr>\n",
       "      <th>3</th>\n",
       "      <td>Porto Alegre</td>\n",
       "      <td>51</td>\n",
       "      <td>2</td>\n",
       "      <td>1</td>\n",
       "      <td>0</td>\n",
       "      <td>2</td>\n",
       "      <td>acept</td>\n",
       "      <td>not furnished</td>\n",
       "      <td>270</td>\n",
       "      <td>1112</td>\n",
       "      <td>22</td>\n",
       "      <td>17</td>\n",
       "      <td>1421</td>\n",
       "      <td>0</td>\n",
       "    </tr>\n",
       "    <tr>\n",
       "      <th>4</th>\n",
       "      <td>São Paulo</td>\n",
       "      <td>25</td>\n",
       "      <td>1</td>\n",
       "      <td>1</td>\n",
       "      <td>0</td>\n",
       "      <td>1</td>\n",
       "      <td>not acept</td>\n",
       "      <td>not furnished</td>\n",
       "      <td>0</td>\n",
       "      <td>800</td>\n",
       "      <td>25</td>\n",
       "      <td>11</td>\n",
       "      <td>836</td>\n",
       "      <td>0</td>\n",
       "    </tr>\n",
       "  </tbody>\n",
       "</table>\n",
       "</div>"
      ],
      "text/plain": [
       "           city  area  rooms  bathroom  parking spaces floor     animal  \\\n",
       "0     São Paulo    70      2         1               1     7      acept   \n",
       "1     São Paulo   320      4         4               0    20      acept   \n",
       "2  Porto Alegre    80      1         1               1     6      acept   \n",
       "3  Porto Alegre    51      2         1               0     2      acept   \n",
       "4     São Paulo    25      1         1               0     1  not acept   \n",
       "\n",
       "       furniture  hoa (R$)  rent amount (R$)  property tax (R$)  \\\n",
       "0      furnished      2065              3300                211   \n",
       "1  not furnished      1200              4960               1750   \n",
       "2  not furnished      1000              2800                  0   \n",
       "3  not furnished       270              1112                 22   \n",
       "4  not furnished         0               800                 25   \n",
       "\n",
       "   fire insurance (R$)  total (R$)  diff  \n",
       "0                   42        5618     0  \n",
       "1                   63        7973     0  \n",
       "2                   41        3841     0  \n",
       "3                   17        1421     0  \n",
       "4                   11         836     0  "
      ]
     },
     "execution_count": 5,
     "metadata": {},
     "output_type": "execute_result"
    }
   ],
   "source": [
    "valor_total = dataset['hoa (R$)'] + dataset['rent amount (R$)'] + \\\n",
    "              dataset['property tax (R$)'] + dataset['fire insurance (R$)']\n",
    "\n",
    "diff_total = dataset['total (R$)'] - valor_total\n",
    "diff = dataset.copy()\n",
    "diff['diff'] = diff_total\n",
    "\n",
    "diff.head()"
   ]
  },
  {
   "cell_type": "code",
   "execution_count": 6,
   "id": "3aa539a6",
   "metadata": {},
   "outputs": [
    {
     "data": {
      "text/plain": [
       " 0      0.874205\n",
       "-1      0.018331\n",
       " 4      0.015152\n",
       "-3      0.014310\n",
       " 2      0.013562\n",
       " 5      0.013562\n",
       " 3      0.013094\n",
       "-2      0.012346\n",
       "-4      0.012252\n",
       " 1      0.011504\n",
       "-5      0.000187\n",
       " 116    0.000187\n",
       "-6      0.000187\n",
       "-7      0.000187\n",
       " 108    0.000187\n",
       " 9      0.000094\n",
       " 12     0.000094\n",
       " 300    0.000094\n",
       " 379    0.000094\n",
       " 47     0.000094\n",
       "-22     0.000094\n",
       " 354    0.000094\n",
       " 22     0.000094\n",
       "Name: diff, dtype: float64"
      ]
     },
     "execution_count": 6,
     "metadata": {},
     "output_type": "execute_result"
    }
   ],
   "source": [
    "diff['diff'].value_counts()/len(diff)"
   ]
  },
  {
   "cell_type": "code",
   "execution_count": 7,
   "id": "42580c23",
   "metadata": {},
   "outputs": [
    {
     "data": {
      "text/plain": [
       "1345"
      ]
     },
     "execution_count": 7,
     "metadata": {},
     "output_type": "execute_result"
    }
   ],
   "source": [
    "diff['diff'].value_counts()[1:].sum()"
   ]
  },
  {
   "cell_type": "markdown",
   "id": "b5814cc5",
   "metadata": {},
   "source": [
    "**Conclusion about the question:**\n",
    "\n",
    "For approximately `87,4%` of the dataset the answer is `YES`. There are `1345` of the total `10692` samples that this occur.\n",
    "\n",
    "___"
   ]
  },
  {
   "cell_type": "markdown",
   "id": "b6123dfb",
   "metadata": {},
   "source": [
    "### Other attributes"
   ]
  },
  {
   "cell_type": "code",
   "execution_count": 8,
   "id": "aa32b23f",
   "metadata": {},
   "outputs": [
    {
     "data": {
      "text/plain": [
       "São Paulo         5887\n",
       "Rio de Janeiro    1501\n",
       "Belo Horizonte    1258\n",
       "Porto Alegre      1193\n",
       "Campinas           853\n",
       "Name: city, dtype: int64"
      ]
     },
     "execution_count": 8,
     "metadata": {},
     "output_type": "execute_result"
    }
   ],
   "source": [
    "dataset['city'].value_counts()"
   ]
  },
  {
   "cell_type": "code",
   "execution_count": 9,
   "id": "4adc2a67",
   "metadata": {},
   "outputs": [
    {
     "data": {
      "text/html": [
       "<div>\n",
       "<style scoped>\n",
       "    .dataframe tbody tr th:only-of-type {\n",
       "        vertical-align: middle;\n",
       "    }\n",
       "\n",
       "    .dataframe tbody tr th {\n",
       "        vertical-align: top;\n",
       "    }\n",
       "\n",
       "    .dataframe thead th {\n",
       "        text-align: right;\n",
       "    }\n",
       "</style>\n",
       "<table border=\"1\" class=\"dataframe\">\n",
       "  <thead>\n",
       "    <tr style=\"text-align: right;\">\n",
       "      <th></th>\n",
       "      <th>area</th>\n",
       "      <th>rooms</th>\n",
       "      <th>bathroom</th>\n",
       "      <th>parking spaces</th>\n",
       "      <th>hoa (R$)</th>\n",
       "      <th>rent amount (R$)</th>\n",
       "      <th>property tax (R$)</th>\n",
       "      <th>fire insurance (R$)</th>\n",
       "      <th>total (R$)</th>\n",
       "    </tr>\n",
       "  </thead>\n",
       "  <tbody>\n",
       "    <tr>\n",
       "      <th>count</th>\n",
       "      <td>10692.000000</td>\n",
       "      <td>10692.000000</td>\n",
       "      <td>10692.000000</td>\n",
       "      <td>10692.000000</td>\n",
       "      <td>1.069200e+04</td>\n",
       "      <td>10692.000000</td>\n",
       "      <td>10692.000000</td>\n",
       "      <td>10692.000000</td>\n",
       "      <td>1.069200e+04</td>\n",
       "    </tr>\n",
       "    <tr>\n",
       "      <th>mean</th>\n",
       "      <td>149.217920</td>\n",
       "      <td>2.506079</td>\n",
       "      <td>2.236813</td>\n",
       "      <td>1.609147</td>\n",
       "      <td>1.174022e+03</td>\n",
       "      <td>3896.247194</td>\n",
       "      <td>366.704358</td>\n",
       "      <td>53.300879</td>\n",
       "      <td>5.490487e+03</td>\n",
       "    </tr>\n",
       "    <tr>\n",
       "      <th>std</th>\n",
       "      <td>537.016942</td>\n",
       "      <td>1.171266</td>\n",
       "      <td>1.407198</td>\n",
       "      <td>1.589521</td>\n",
       "      <td>1.559231e+04</td>\n",
       "      <td>3408.545518</td>\n",
       "      <td>3107.832321</td>\n",
       "      <td>47.768031</td>\n",
       "      <td>1.648473e+04</td>\n",
       "    </tr>\n",
       "    <tr>\n",
       "      <th>min</th>\n",
       "      <td>11.000000</td>\n",
       "      <td>1.000000</td>\n",
       "      <td>1.000000</td>\n",
       "      <td>0.000000</td>\n",
       "      <td>0.000000e+00</td>\n",
       "      <td>450.000000</td>\n",
       "      <td>0.000000</td>\n",
       "      <td>3.000000</td>\n",
       "      <td>4.990000e+02</td>\n",
       "    </tr>\n",
       "    <tr>\n",
       "      <th>25%</th>\n",
       "      <td>56.000000</td>\n",
       "      <td>2.000000</td>\n",
       "      <td>1.000000</td>\n",
       "      <td>0.000000</td>\n",
       "      <td>1.700000e+02</td>\n",
       "      <td>1530.000000</td>\n",
       "      <td>38.000000</td>\n",
       "      <td>21.000000</td>\n",
       "      <td>2.061750e+03</td>\n",
       "    </tr>\n",
       "    <tr>\n",
       "      <th>50%</th>\n",
       "      <td>90.000000</td>\n",
       "      <td>2.000000</td>\n",
       "      <td>2.000000</td>\n",
       "      <td>1.000000</td>\n",
       "      <td>5.600000e+02</td>\n",
       "      <td>2661.000000</td>\n",
       "      <td>125.000000</td>\n",
       "      <td>36.000000</td>\n",
       "      <td>3.581500e+03</td>\n",
       "    </tr>\n",
       "    <tr>\n",
       "      <th>75%</th>\n",
       "      <td>182.000000</td>\n",
       "      <td>3.000000</td>\n",
       "      <td>3.000000</td>\n",
       "      <td>2.000000</td>\n",
       "      <td>1.237500e+03</td>\n",
       "      <td>5000.000000</td>\n",
       "      <td>375.000000</td>\n",
       "      <td>68.000000</td>\n",
       "      <td>6.768000e+03</td>\n",
       "    </tr>\n",
       "    <tr>\n",
       "      <th>max</th>\n",
       "      <td>46335.000000</td>\n",
       "      <td>13.000000</td>\n",
       "      <td>10.000000</td>\n",
       "      <td>12.000000</td>\n",
       "      <td>1.117000e+06</td>\n",
       "      <td>45000.000000</td>\n",
       "      <td>313700.000000</td>\n",
       "      <td>677.000000</td>\n",
       "      <td>1.120000e+06</td>\n",
       "    </tr>\n",
       "  </tbody>\n",
       "</table>\n",
       "</div>"
      ],
      "text/plain": [
       "               area         rooms      bathroom  parking spaces      hoa (R$)  \\\n",
       "count  10692.000000  10692.000000  10692.000000    10692.000000  1.069200e+04   \n",
       "mean     149.217920      2.506079      2.236813        1.609147  1.174022e+03   \n",
       "std      537.016942      1.171266      1.407198        1.589521  1.559231e+04   \n",
       "min       11.000000      1.000000      1.000000        0.000000  0.000000e+00   \n",
       "25%       56.000000      2.000000      1.000000        0.000000  1.700000e+02   \n",
       "50%       90.000000      2.000000      2.000000        1.000000  5.600000e+02   \n",
       "75%      182.000000      3.000000      3.000000        2.000000  1.237500e+03   \n",
       "max    46335.000000     13.000000     10.000000       12.000000  1.117000e+06   \n",
       "\n",
       "       rent amount (R$)  property tax (R$)  fire insurance (R$)    total (R$)  \n",
       "count      10692.000000       10692.000000         10692.000000  1.069200e+04  \n",
       "mean        3896.247194         366.704358            53.300879  5.490487e+03  \n",
       "std         3408.545518        3107.832321            47.768031  1.648473e+04  \n",
       "min          450.000000           0.000000             3.000000  4.990000e+02  \n",
       "25%         1530.000000          38.000000            21.000000  2.061750e+03  \n",
       "50%         2661.000000         125.000000            36.000000  3.581500e+03  \n",
       "75%         5000.000000         375.000000            68.000000  6.768000e+03  \n",
       "max        45000.000000      313700.000000           677.000000  1.120000e+06  "
      ]
     },
     "execution_count": 9,
     "metadata": {},
     "output_type": "execute_result"
    }
   ],
   "source": [
    "dataset.describe()"
   ]
  },
  {
   "cell_type": "markdown",
   "id": "1df0b713",
   "metadata": {},
   "source": [
    "The mean value of rent, without the fees, is approximately `R$ 2661`. However the range of rents cover the minimum of `R$ 450` and maximum of `R$ 45000`. How the 75th-percentile is `R$5000`, rents with more than this value is a minority. Probably high rent values corresponde to comercial property (<span style='color:red'>we can investigate this</span>)."
   ]
  },
  {
   "cell_type": "code",
   "execution_count": 10,
   "id": "4b7616df",
   "metadata": {},
   "outputs": [
    {
     "data": {
      "image/png": "[encoded data removed]",
      "text/plain": [
       "<Figure size 1440x1080 with 9 Axes>"
      ]
     },
     "metadata": {
      "needs_background": "light"
     },
     "output_type": "display_data"
    }
   ],
   "source": [
    "dataset.hist(bins=50, figsize=(20,15))\n",
    "plt.show()"
   ]
  },
  {
   "cell_type": "markdown",
   "id": "07fbf048",
   "metadata": {},
   "source": [
    "By the histogram, all attributes have a skewed distribution. In fact, most them have a right-skewed distribution."
   ]
  },
  {
   "cell_type": "markdown",
   "id": "6e8afd36",
   "metadata": {},
   "source": [
    "# Correlation Analysis\n",
    "\n",
    "___"
   ]
  },
  {
   "cell_type": "code",
   "execution_count": 11,
   "id": "0bf592d6",
   "metadata": {},
   "outputs": [
    {
     "data": {
      "text/html": [
       "<div>\n",
       "<style scoped>\n",
       "    .dataframe tbody tr th:only-of-type {\n",
       "        vertical-align: middle;\n",
       "    }\n",
       "\n",
       "    .dataframe tbody tr th {\n",
       "        vertical-align: top;\n",
       "    }\n",
       "\n",
       "    .dataframe thead th {\n",
       "        text-align: right;\n",
       "    }\n",
       "</style>\n",
       "<table border=\"1\" class=\"dataframe\">\n",
       "  <thead>\n",
       "    <tr style=\"text-align: right;\">\n",
       "      <th></th>\n",
       "      <th>city</th>\n",
       "      <th>area</th>\n",
       "      <th>rooms</th>\n",
       "      <th>bathroom</th>\n",
       "      <th>parking spaces</th>\n",
       "      <th>floor</th>\n",
       "      <th>animal</th>\n",
       "      <th>furniture</th>\n",
       "      <th>hoa (R$)</th>\n",
       "      <th>rent amount (R$)</th>\n",
       "      <th>property tax (R$)</th>\n",
       "      <th>fire insurance (R$)</th>\n",
       "      <th>total (R$)</th>\n",
       "    </tr>\n",
       "  </thead>\n",
       "  <tbody>\n",
       "    <tr>\n",
       "      <th>0</th>\n",
       "      <td>São Paulo</td>\n",
       "      <td>70</td>\n",
       "      <td>2</td>\n",
       "      <td>1</td>\n",
       "      <td>1</td>\n",
       "      <td>7</td>\n",
       "      <td>acept</td>\n",
       "      <td>furnished</td>\n",
       "      <td>2065</td>\n",
       "      <td>3300</td>\n",
       "      <td>211</td>\n",
       "      <td>42</td>\n",
       "      <td>5618</td>\n",
       "    </tr>\n",
       "    <tr>\n",
       "      <th>1</th>\n",
       "      <td>São Paulo</td>\n",
       "      <td>320</td>\n",
       "      <td>4</td>\n",
       "      <td>4</td>\n",
       "      <td>0</td>\n",
       "      <td>20</td>\n",
       "      <td>acept</td>\n",
       "      <td>not furnished</td>\n",
       "      <td>1200</td>\n",
       "      <td>4960</td>\n",
       "      <td>1750</td>\n",
       "      <td>63</td>\n",
       "      <td>7973</td>\n",
       "    </tr>\n",
       "    <tr>\n",
       "      <th>2</th>\n",
       "      <td>Porto Alegre</td>\n",
       "      <td>80</td>\n",
       "      <td>1</td>\n",
       "      <td>1</td>\n",
       "      <td>1</td>\n",
       "      <td>6</td>\n",
       "      <td>acept</td>\n",
       "      <td>not furnished</td>\n",
       "      <td>1000</td>\n",
       "      <td>2800</td>\n",
       "      <td>0</td>\n",
       "      <td>41</td>\n",
       "      <td>3841</td>\n",
       "    </tr>\n",
       "  </tbody>\n",
       "</table>\n",
       "</div>"
      ],
      "text/plain": [
       "           city  area  rooms  bathroom  parking spaces floor animal  \\\n",
       "0     São Paulo    70      2         1               1     7  acept   \n",
       "1     São Paulo   320      4         4               0    20  acept   \n",
       "2  Porto Alegre    80      1         1               1     6  acept   \n",
       "\n",
       "       furniture  hoa (R$)  rent amount (R$)  property tax (R$)  \\\n",
       "0      furnished      2065              3300                211   \n",
       "1  not furnished      1200              4960               1750   \n",
       "2  not furnished      1000              2800                  0   \n",
       "\n",
       "   fire insurance (R$)  total (R$)  \n",
       "0                   42        5618  \n",
       "1                   63        7973  \n",
       "2                   41        3841  "
      ]
     },
     "execution_count": 11,
     "metadata": {},
     "output_type": "execute_result"
    }
   ],
   "source": [
    "dataset.head(3)"
   ]
  },
  {
   "cell_type": "code",
   "execution_count": 12,
   "id": "e6bd541f",
   "metadata": {},
   "outputs": [],
   "source": [
    "#help(dataset.corr)"
   ]
  },
  {
   "cell_type": "code",
   "execution_count": 13,
   "id": "7bdbca86",
   "metadata": {},
   "outputs": [],
   "source": [
    "# compute correlation matrix for all dataset\n",
    "corr_matrix = dataset.corr()"
   ]
  },
  {
   "cell_type": "code",
   "execution_count": 14,
   "id": "9e861456",
   "metadata": {},
   "outputs": [
    {
     "data": {
      "text/plain": [
       "total (R$)             1.000000\n",
       "hoa (R$)               0.955024\n",
       "rent amount (R$)       0.264490\n",
       "fire insurance (R$)    0.254911\n",
       "property tax (R$)      0.218344\n",
       "bathroom               0.208339\n",
       "parking spaces         0.148684\n",
       "rooms                  0.134597\n",
       "area                   0.051799\n",
       "Name: total (R$), dtype: float64"
      ]
     },
     "execution_count": 14,
     "metadata": {},
     "output_type": "execute_result"
    }
   ],
   "source": [
    "# sort by total rent\n",
    "corr_matrix['total (R$)'].sort_values(ascending=False)"
   ]
  },
  {
   "cell_type": "markdown",
   "id": "09de9745",
   "metadata": {},
   "source": [
    " - The `total rent` have a high correlation with the attribute `hoa` (condominium fee). Maybe `hoa` value is a percentage of the rent.\n",
    "\n",
    "- Attributes `rent amount`, `fire insurance` and `property tax` also are considerably correlated with `total rent`."
   ]
  },
  {
   "cell_type": "code",
   "execution_count": 15,
   "id": "1f97451f",
   "metadata": {},
   "outputs": [
    {
     "data": {
      "text/plain": [
       "rent amount (R$)       1.000000\n",
       "fire insurance (R$)    0.987343\n",
       "bathroom               0.668504\n",
       "parking spaces         0.578361\n",
       "rooms                  0.541758\n",
       "total (R$)             0.264490\n",
       "area                   0.180742\n",
       "property tax (R$)      0.107884\n",
       "hoa (R$)               0.036490\n",
       "Name: rent amount (R$), dtype: float64"
      ]
     },
     "execution_count": 15,
     "metadata": {},
     "output_type": "execute_result"
    }
   ],
   "source": [
    "# sort by rent amount\n",
    "corr_matrix['rent amount (R$)'].sort_values(ascending=False)"
   ]
  },
  {
   "cell_type": "markdown",
   "id": "fd43b025",
   "metadata": {},
   "source": [
    "For the `rent amount` the attributes `fire insurance`, `bathroom`, `parking spaces` and `rooms`. All these have the standard correlation coefficients (Pearson correlation) more than `0.5`."
   ]
  },
  {
   "cell_type": "markdown",
   "id": "3c931b47",
   "metadata": {},
   "source": [
    "## Split dataset and check homogeneity of Test Set\n",
    "___\n",
    "\n",
    "**Note:** A good option for create the test set is use a strategy with StratifiedShuffleSplit:\n",
    "\n",
    "```bash\n",
    "  from sklearn.model_selection import StratifiedShuffleSplit\n",
    "```"
   ]
  },
  {
   "cell_type": "code",
   "execution_count": 16,
   "id": "524ab88a",
   "metadata": {},
   "outputs": [],
   "source": [
    "train_set, test_set = train_test_split(dataset, test_size=0.2, random_state=42)"
   ]
  },
  {
   "cell_type": "code",
   "execution_count": 17,
   "id": "5abf8669",
   "metadata": {},
   "outputs": [
    {
     "name": "stdout",
     "output_type": "stream",
     "text": [
      "Samples in Training Set: 8553\n",
      "Samples in Test Set: 2139\n"
     ]
    }
   ],
   "source": [
    "print('Samples in Training Set:', len(train_set))\n",
    "print('Samples in Test Set:', len(test_set))"
   ]
  },
  {
   "cell_type": "markdown",
   "id": "edcfa022",
   "metadata": {},
   "source": [
    "### Stratification"
   ]
  },
  {
   "cell_type": "code",
   "execution_count": 18,
   "id": "28f62ab3",
   "metadata": {},
   "outputs": [
    {
     "data": {
      "image/png": "[encoded data removed]",
      "text/plain": [
       "<Figure size 1080x360 with 1 Axes>"
      ]
     },
     "metadata": {
      "needs_background": "light"
     },
     "output_type": "display_data"
    }
   ],
   "source": [
    "dataset['rent amount (R$)'].hist(figsize=(15, 5))\n",
    "plt.show()"
   ]
  },
  {
   "cell_type": "code",
   "execution_count": 19,
   "id": "4ee2cef4",
   "metadata": {},
   "outputs": [],
   "source": [
    "dataset['rent_amount_category'] = pd.cut(dataset['rent amount (R$)'],\n",
    "                                         bins=[0., 3000.0, 6000.0, 9000.0, 12000.0, np.inf],\n",
    "                                         labels=[1, 2, 3, 4, 5])"
   ]
  },
  {
   "cell_type": "code",
   "execution_count": 20,
   "id": "bb6dfc16",
   "metadata": {},
   "outputs": [
    {
     "data": {
      "text/plain": [
       "1    6061\n",
       "2    2633\n",
       "3    1034\n",
       "4     523\n",
       "5     441\n",
       "Name: rent_amount_category, dtype: int64"
      ]
     },
     "execution_count": 20,
     "metadata": {},
     "output_type": "execute_result"
    }
   ],
   "source": [
    "dataset['rent_amount_category'].value_counts()"
   ]
  },
  {
   "cell_type": "code",
   "execution_count": 21,
   "id": "326c6dc3",
   "metadata": {},
   "outputs": [
    {
     "data": {
      "image/png": "[encoded data removed]",
      "text/plain": [
       "<Figure size 1080x360 with 1 Axes>"
      ]
     },
     "metadata": {
      "needs_background": "light"
     },
     "output_type": "display_data"
    }
   ],
   "source": [
    "dataset['rent_amount_category'].hist(figsize=(15, 5))\n",
    "plt.show()"
   ]
  },
  {
   "cell_type": "code",
   "execution_count": 22,
   "id": "52aefdf8",
   "metadata": {},
   "outputs": [
    {
     "data": {
      "text/html": [
       "<div>\n",
       "<style scoped>\n",
       "    .dataframe tbody tr th:only-of-type {\n",
       "        vertical-align: middle;\n",
       "    }\n",
       "\n",
       "    .dataframe tbody tr th {\n",
       "        vertical-align: top;\n",
       "    }\n",
       "\n",
       "    .dataframe thead th {\n",
       "        text-align: right;\n",
       "    }\n",
       "</style>\n",
       "<table border=\"1\" class=\"dataframe\">\n",
       "  <thead>\n",
       "    <tr style=\"text-align: right;\">\n",
       "      <th></th>\n",
       "      <th>city</th>\n",
       "      <th>area</th>\n",
       "      <th>rooms</th>\n",
       "      <th>bathroom</th>\n",
       "      <th>parking spaces</th>\n",
       "      <th>floor</th>\n",
       "      <th>animal</th>\n",
       "      <th>furniture</th>\n",
       "      <th>hoa (R$)</th>\n",
       "      <th>rent amount (R$)</th>\n",
       "      <th>property tax (R$)</th>\n",
       "      <th>fire insurance (R$)</th>\n",
       "      <th>total (R$)</th>\n",
       "      <th>rent_amount_category</th>\n",
       "    </tr>\n",
       "  </thead>\n",
       "  <tbody>\n",
       "    <tr>\n",
       "      <th>0</th>\n",
       "      <td>São Paulo</td>\n",
       "      <td>70</td>\n",
       "      <td>2</td>\n",
       "      <td>1</td>\n",
       "      <td>1</td>\n",
       "      <td>7</td>\n",
       "      <td>acept</td>\n",
       "      <td>furnished</td>\n",
       "      <td>2065</td>\n",
       "      <td>3300</td>\n",
       "      <td>211</td>\n",
       "      <td>42</td>\n",
       "      <td>5618</td>\n",
       "      <td>2</td>\n",
       "    </tr>\n",
       "    <tr>\n",
       "      <th>1</th>\n",
       "      <td>São Paulo</td>\n",
       "      <td>320</td>\n",
       "      <td>4</td>\n",
       "      <td>4</td>\n",
       "      <td>0</td>\n",
       "      <td>20</td>\n",
       "      <td>acept</td>\n",
       "      <td>not furnished</td>\n",
       "      <td>1200</td>\n",
       "      <td>4960</td>\n",
       "      <td>1750</td>\n",
       "      <td>63</td>\n",
       "      <td>7973</td>\n",
       "      <td>2</td>\n",
       "    </tr>\n",
       "    <tr>\n",
       "      <th>2</th>\n",
       "      <td>Porto Alegre</td>\n",
       "      <td>80</td>\n",
       "      <td>1</td>\n",
       "      <td>1</td>\n",
       "      <td>1</td>\n",
       "      <td>6</td>\n",
       "      <td>acept</td>\n",
       "      <td>not furnished</td>\n",
       "      <td>1000</td>\n",
       "      <td>2800</td>\n",
       "      <td>0</td>\n",
       "      <td>41</td>\n",
       "      <td>3841</td>\n",
       "      <td>1</td>\n",
       "    </tr>\n",
       "    <tr>\n",
       "      <th>3</th>\n",
       "      <td>Porto Alegre</td>\n",
       "      <td>51</td>\n",
       "      <td>2</td>\n",
       "      <td>1</td>\n",
       "      <td>0</td>\n",
       "      <td>2</td>\n",
       "      <td>acept</td>\n",
       "      <td>not furnished</td>\n",
       "      <td>270</td>\n",
       "      <td>1112</td>\n",
       "      <td>22</td>\n",
       "      <td>17</td>\n",
       "      <td>1421</td>\n",
       "      <td>1</td>\n",
       "    </tr>\n",
       "    <tr>\n",
       "      <th>4</th>\n",
       "      <td>São Paulo</td>\n",
       "      <td>25</td>\n",
       "      <td>1</td>\n",
       "      <td>1</td>\n",
       "      <td>0</td>\n",
       "      <td>1</td>\n",
       "      <td>not acept</td>\n",
       "      <td>not furnished</td>\n",
       "      <td>0</td>\n",
       "      <td>800</td>\n",
       "      <td>25</td>\n",
       "      <td>11</td>\n",
       "      <td>836</td>\n",
       "      <td>1</td>\n",
       "    </tr>\n",
       "  </tbody>\n",
       "</table>\n",
       "</div>"
      ],
      "text/plain": [
       "           city  area  rooms  bathroom  parking spaces floor     animal  \\\n",
       "0     São Paulo    70      2         1               1     7      acept   \n",
       "1     São Paulo   320      4         4               0    20      acept   \n",
       "2  Porto Alegre    80      1         1               1     6      acept   \n",
       "3  Porto Alegre    51      2         1               0     2      acept   \n",
       "4     São Paulo    25      1         1               0     1  not acept   \n",
       "\n",
       "       furniture  hoa (R$)  rent amount (R$)  property tax (R$)  \\\n",
       "0      furnished      2065              3300                211   \n",
       "1  not furnished      1200              4960               1750   \n",
       "2  not furnished      1000              2800                  0   \n",
       "3  not furnished       270              1112                 22   \n",
       "4  not furnished         0               800                 25   \n",
       "\n",
       "   fire insurance (R$)  total (R$) rent_amount_category  \n",
       "0                   42        5618                    2  \n",
       "1                   63        7973                    2  \n",
       "2                   41        3841                    1  \n",
       "3                   17        1421                    1  \n",
       "4                   11         836                    1  "
      ]
     },
     "execution_count": 22,
     "metadata": {},
     "output_type": "execute_result"
    }
   ],
   "source": [
    "dataset.head()"
   ]
  },
  {
   "cell_type": "code",
   "execution_count": 23,
   "id": "18356da5",
   "metadata": {},
   "outputs": [],
   "source": [
    "split = StratifiedShuffleSplit(n_splits=10, test_size=0.2, random_state=42)\n",
    "for train_index, test_index in split.split(dataset, dataset['rent_amount_category']):\n",
    "    strat_train_set = dataset.loc[train_index]\n",
    "    strat_test_set = dataset.loc[test_index]"
   ]
  },
  {
   "cell_type": "code",
   "execution_count": 24,
   "id": "d414f1a8",
   "metadata": {},
   "outputs": [],
   "source": [
    "#help(StratifiedShuffleSplit)"
   ]
  },
  {
   "cell_type": "code",
   "execution_count": 25,
   "id": "16c5668c",
   "metadata": {},
   "outputs": [
    {
     "data": {
      "text/plain": [
       "1    0.566620\n",
       "2    0.246377\n",
       "3    0.096774\n",
       "4    0.049088\n",
       "5    0.041141\n",
       "Name: rent_amount_category, dtype: float64"
      ]
     },
     "execution_count": 25,
     "metadata": {},
     "output_type": "execute_result"
    }
   ],
   "source": [
    "strat_test_set['rent_amount_category'].value_counts() / len(strat_test_set)"
   ]
  },
  {
   "cell_type": "code",
   "execution_count": 26,
   "id": "31002daa",
   "metadata": {},
   "outputs": [
    {
     "data": {
      "text/plain": [
       "1    0.566872\n",
       "2    0.246259\n",
       "3    0.096708\n",
       "4    0.048915\n",
       "5    0.041246\n",
       "Name: rent_amount_category, dtype: float64"
      ]
     },
     "execution_count": 26,
     "metadata": {},
     "output_type": "execute_result"
    }
   ],
   "source": [
    "dataset['rent_amount_category'].value_counts() / len(dataset)"
   ]
  },
  {
   "cell_type": "code",
   "execution_count": 27,
   "id": "6caa3485",
   "metadata": {},
   "outputs": [],
   "source": [
    "def income_cat_proportions(data):\n",
    "    return data['rent_amount_category'].value_counts() / len(data)\n",
    "\n",
    "train_set, test_set = train_test_split(dataset, test_size=0.2, random_state=42)\n",
    "\n",
    "compare_props = pd.DataFrame({\n",
    "    \"Overall\": income_cat_proportions(dataset),\n",
    "    \"Stratified\": income_cat_proportions(strat_test_set),\n",
    "    \"Random\": income_cat_proportions(test_set),\n",
    "}).sort_index()\n",
    "\n",
    "compare_props[\"Rand. %error\"] = 100 * compare_props[\"Random\"] / compare_props[\"Overall\"] - 100\n",
    "compare_props[\"Strat. %error\"] = 100 * compare_props[\"Stratified\"] / compare_props[\"Overall\"] - 100"
   ]
  },
  {
   "cell_type": "code",
   "execution_count": 28,
   "id": "3055ddc9",
   "metadata": {},
   "outputs": [
    {
     "data": {
      "text/html": [
       "<div>\n",
       "<style scoped>\n",
       "    .dataframe tbody tr th:only-of-type {\n",
       "        vertical-align: middle;\n",
       "    }\n",
       "\n",
       "    .dataframe tbody tr th {\n",
       "        vertical-align: top;\n",
       "    }\n",
       "\n",
       "    .dataframe thead th {\n",
       "        text-align: right;\n",
       "    }\n",
       "</style>\n",
       "<table border=\"1\" class=\"dataframe\">\n",
       "  <thead>\n",
       "    <tr style=\"text-align: right;\">\n",
       "      <th></th>\n",
       "      <th>Overall</th>\n",
       "      <th>Stratified</th>\n",
       "      <th>Random</th>\n",
       "      <th>Rand. %error</th>\n",
       "      <th>Strat. %error</th>\n",
       "    </tr>\n",
       "  </thead>\n",
       "  <tbody>\n",
       "    <tr>\n",
       "      <th>1</th>\n",
       "      <td>0.566872</td>\n",
       "      <td>0.566620</td>\n",
       "      <td>0.568022</td>\n",
       "      <td>0.202870</td>\n",
       "      <td>-0.044545</td>\n",
       "    </tr>\n",
       "    <tr>\n",
       "      <th>2</th>\n",
       "      <td>0.246259</td>\n",
       "      <td>0.246377</td>\n",
       "      <td>0.253389</td>\n",
       "      <td>2.895550</td>\n",
       "      <td>0.047887</td>\n",
       "    </tr>\n",
       "    <tr>\n",
       "      <th>3</th>\n",
       "      <td>0.096708</td>\n",
       "      <td>0.096774</td>\n",
       "      <td>0.093969</td>\n",
       "      <td>-2.831906</td>\n",
       "      <td>0.068634</td>\n",
       "    </tr>\n",
       "    <tr>\n",
       "      <th>4</th>\n",
       "      <td>0.048915</td>\n",
       "      <td>0.049088</td>\n",
       "      <td>0.046283</td>\n",
       "      <td>-5.380277</td>\n",
       "      <td>0.354251</td>\n",
       "    </tr>\n",
       "    <tr>\n",
       "      <th>5</th>\n",
       "      <td>0.041246</td>\n",
       "      <td>0.041141</td>\n",
       "      <td>0.038336</td>\n",
       "      <td>-7.055557</td>\n",
       "      <td>-0.254744</td>\n",
       "    </tr>\n",
       "  </tbody>\n",
       "</table>\n",
       "</div>"
      ],
      "text/plain": [
       "    Overall  Stratified    Random  Rand. %error  Strat. %error\n",
       "1  0.566872    0.566620  0.568022      0.202870      -0.044545\n",
       "2  0.246259    0.246377  0.253389      2.895550       0.047887\n",
       "3  0.096708    0.096774  0.093969     -2.831906       0.068634\n",
       "4  0.048915    0.049088  0.046283     -5.380277       0.354251\n",
       "5  0.041246    0.041141  0.038336     -7.055557      -0.254744"
      ]
     },
     "execution_count": 28,
     "metadata": {},
     "output_type": "execute_result"
    }
   ],
   "source": [
    "compare_props"
   ]
  },
  {
   "cell_type": "code",
   "execution_count": 29,
   "id": "0324bfd3",
   "metadata": {},
   "outputs": [],
   "source": [
    "for set_ in (strat_train_set, strat_test_set):\n",
    "    set_.drop('rent_amount_category', axis=1, inplace=True)"
   ]
  },
  {
   "cell_type": "markdown",
   "id": "2353603d",
   "metadata": {},
   "source": [
    "### Define training set"
   ]
  },
  {
   "cell_type": "code",
   "execution_count": 30,
   "id": "9e500436",
   "metadata": {},
   "outputs": [],
   "source": [
    "train_set = strat_train_set.copy()"
   ]
  },
  {
   "cell_type": "markdown",
   "id": "3b8bff4a",
   "metadata": {},
   "source": [
    "# Exploring Training Set \n",
    "___"
   ]
  },
  {
   "cell_type": "code",
   "execution_count": 31,
   "id": "25f3e7d8",
   "metadata": {},
   "outputs": [
    {
     "data": {
      "text/html": [
       "<div>\n",
       "<style scoped>\n",
       "    .dataframe tbody tr th:only-of-type {\n",
       "        vertical-align: middle;\n",
       "    }\n",
       "\n",
       "    .dataframe tbody tr th {\n",
       "        vertical-align: top;\n",
       "    }\n",
       "\n",
       "    .dataframe thead th {\n",
       "        text-align: right;\n",
       "    }\n",
       "</style>\n",
       "<table border=\"1\" class=\"dataframe\">\n",
       "  <thead>\n",
       "    <tr style=\"text-align: right;\">\n",
       "      <th></th>\n",
       "      <th>city</th>\n",
       "      <th>area</th>\n",
       "      <th>rooms</th>\n",
       "      <th>bathroom</th>\n",
       "      <th>parking spaces</th>\n",
       "      <th>floor</th>\n",
       "      <th>animal</th>\n",
       "      <th>furniture</th>\n",
       "      <th>hoa (R$)</th>\n",
       "      <th>rent amount (R$)</th>\n",
       "      <th>property tax (R$)</th>\n",
       "      <th>fire insurance (R$)</th>\n",
       "      <th>total (R$)</th>\n",
       "    </tr>\n",
       "  </thead>\n",
       "  <tbody>\n",
       "    <tr>\n",
       "      <th>6762</th>\n",
       "      <td>Rio de Janeiro</td>\n",
       "      <td>200</td>\n",
       "      <td>2</td>\n",
       "      <td>1</td>\n",
       "      <td>0</td>\n",
       "      <td>-</td>\n",
       "      <td>acept</td>\n",
       "      <td>not furnished</td>\n",
       "      <td>0</td>\n",
       "      <td>3000</td>\n",
       "      <td>0</td>\n",
       "      <td>46</td>\n",
       "      <td>3046</td>\n",
       "    </tr>\n",
       "    <tr>\n",
       "      <th>5639</th>\n",
       "      <td>São Paulo</td>\n",
       "      <td>59</td>\n",
       "      <td>2</td>\n",
       "      <td>1</td>\n",
       "      <td>1</td>\n",
       "      <td>1</td>\n",
       "      <td>not acept</td>\n",
       "      <td>not furnished</td>\n",
       "      <td>490</td>\n",
       "      <td>1700</td>\n",
       "      <td>0</td>\n",
       "      <td>22</td>\n",
       "      <td>2212</td>\n",
       "    </tr>\n",
       "    <tr>\n",
       "      <th>2098</th>\n",
       "      <td>Belo Horizonte</td>\n",
       "      <td>80</td>\n",
       "      <td>3</td>\n",
       "      <td>2</td>\n",
       "      <td>2</td>\n",
       "      <td>1</td>\n",
       "      <td>acept</td>\n",
       "      <td>furnished</td>\n",
       "      <td>280</td>\n",
       "      <td>2500</td>\n",
       "      <td>126</td>\n",
       "      <td>34</td>\n",
       "      <td>2940</td>\n",
       "    </tr>\n",
       "    <tr>\n",
       "      <th>9092</th>\n",
       "      <td>São Paulo</td>\n",
       "      <td>87</td>\n",
       "      <td>2</td>\n",
       "      <td>3</td>\n",
       "      <td>2</td>\n",
       "      <td>1</td>\n",
       "      <td>acept</td>\n",
       "      <td>furnished</td>\n",
       "      <td>1200</td>\n",
       "      <td>3560</td>\n",
       "      <td>492</td>\n",
       "      <td>46</td>\n",
       "      <td>5298</td>\n",
       "    </tr>\n",
       "    <tr>\n",
       "      <th>1954</th>\n",
       "      <td>São Paulo</td>\n",
       "      <td>60</td>\n",
       "      <td>1</td>\n",
       "      <td>1</td>\n",
       "      <td>1</td>\n",
       "      <td>-</td>\n",
       "      <td>not acept</td>\n",
       "      <td>not furnished</td>\n",
       "      <td>0</td>\n",
       "      <td>1180</td>\n",
       "      <td>0</td>\n",
       "      <td>18</td>\n",
       "      <td>1198</td>\n",
       "    </tr>\n",
       "  </tbody>\n",
       "</table>\n",
       "</div>"
      ],
      "text/plain": [
       "                city  area  rooms  bathroom  parking spaces floor     animal  \\\n",
       "6762  Rio de Janeiro   200      2         1               0     -      acept   \n",
       "5639       São Paulo    59      2         1               1     1  not acept   \n",
       "2098  Belo Horizonte    80      3         2               2     1      acept   \n",
       "9092       São Paulo    87      2         3               2     1      acept   \n",
       "1954       São Paulo    60      1         1               1     -  not acept   \n",
       "\n",
       "          furniture  hoa (R$)  rent amount (R$)  property tax (R$)  \\\n",
       "6762  not furnished         0              3000                  0   \n",
       "5639  not furnished       490              1700                  0   \n",
       "2098      furnished       280              2500                126   \n",
       "9092      furnished      1200              3560                492   \n",
       "1954  not furnished         0              1180                  0   \n",
       "\n",
       "      fire insurance (R$)  total (R$)  \n",
       "6762                   46        3046  \n",
       "5639                   22        2212  \n",
       "2098                   34        2940  \n",
       "9092                   46        5298  \n",
       "1954                   18        1198  "
      ]
     },
     "execution_count": 31,
     "metadata": {},
     "output_type": "execute_result"
    }
   ],
   "source": [
    "train_set.head()"
   ]
  },
  {
   "cell_type": "markdown",
   "id": "5a40db98",
   "metadata": {},
   "source": [
    "### NAs or inconsistent values"
   ]
  },
  {
   "cell_type": "code",
   "execution_count": 32,
   "id": "d821ed80",
   "metadata": {},
   "outputs": [
    {
     "data": {
      "text/plain": [
       "city                   0\n",
       "area                   0\n",
       "rooms                  0\n",
       "bathroom               0\n",
       "parking spaces         0\n",
       "floor                  0\n",
       "animal                 0\n",
       "furniture              0\n",
       "hoa (R$)               0\n",
       "rent amount (R$)       0\n",
       "property tax (R$)      0\n",
       "fire insurance (R$)    0\n",
       "total (R$)             0\n",
       "dtype: int64"
      ]
     },
     "execution_count": 32,
     "metadata": {},
     "output_type": "execute_result"
    }
   ],
   "source": [
    "train_set.isna().sum()"
   ]
  },
  {
   "cell_type": "code",
   "execution_count": 33,
   "id": "c2dada12",
   "metadata": {},
   "outputs": [
    {
     "data": {
      "text/plain": [
       "city                      0\n",
       "area                      0\n",
       "rooms                     0\n",
       "bathroom                  0\n",
       "parking spaces            0\n",
       "floor                  2014\n",
       "animal                    0\n",
       "furniture                 0\n",
       "hoa (R$)                  0\n",
       "rent amount (R$)          0\n",
       "property tax (R$)         0\n",
       "fire insurance (R$)       0\n",
       "total (R$)                0\n",
       "dtype: int64"
      ]
     },
     "execution_count": 33,
     "metadata": {},
     "output_type": "execute_result"
    }
   ],
   "source": [
    "train_set.isin(['-']).sum()"
   ]
  },
  {
   "cell_type": "markdown",
   "id": "591ceee8",
   "metadata": {},
   "source": [
    "**Note**: The attribute floor has nonumerical values. We should consider this in a predictive modeling. For simplicity, **we will initially discard this one**."
   ]
  },
  {
   "cell_type": "code",
   "execution_count": 34,
   "id": "8b65e99c",
   "metadata": {},
   "outputs": [],
   "source": [
    "train_set.drop('floor', axis=1, inplace=True)"
   ]
  },
  {
   "cell_type": "code",
   "execution_count": 35,
   "id": "7059f834",
   "metadata": {},
   "outputs": [
    {
     "data": {
      "text/plain": [
       "city                   0\n",
       "area                   0\n",
       "rooms                  0\n",
       "bathroom               0\n",
       "parking spaces         0\n",
       "animal                 0\n",
       "furniture              0\n",
       "hoa (R$)               0\n",
       "rent amount (R$)       0\n",
       "property tax (R$)      0\n",
       "fire insurance (R$)    0\n",
       "total (R$)             0\n",
       "dtype: int64"
      ]
     },
     "execution_count": 35,
     "metadata": {},
     "output_type": "execute_result"
    }
   ],
   "source": [
    "train_set.isin(['-']).sum()"
   ]
  },
  {
   "cell_type": "code",
   "execution_count": 36,
   "id": "16d19975",
   "metadata": {},
   "outputs": [
    {
     "data": {
      "text/plain": [
       "(8553, 12)"
      ]
     },
     "execution_count": 36,
     "metadata": {},
     "output_type": "execute_result"
    }
   ],
   "source": [
    "train_set.shape"
   ]
  },
  {
   "cell_type": "markdown",
   "id": "ac203d14",
   "metadata": {},
   "source": [
    "### Histogram of target variable"
   ]
  },
  {
   "cell_type": "code",
   "execution_count": 37,
   "id": "a9b3d6e8",
   "metadata": {},
   "outputs": [
    {
     "data": {
      "image/png": "[encoded data removed]",
      "text/plain": [
       "<Figure size 1080x360 with 1 Axes>"
      ]
     },
     "metadata": {
      "needs_background": "light"
     },
     "output_type": "display_data"
    }
   ],
   "source": [
    "train_set['rent amount (R$)'].hist(figsize=(15, 5))\n",
    "plt.show()"
   ]
  },
  {
   "cell_type": "markdown",
   "id": "26b014a0",
   "metadata": {},
   "source": [
    "### Correlation"
   ]
  },
  {
   "cell_type": "code",
   "execution_count": 38,
   "id": "bffbb070",
   "metadata": {},
   "outputs": [
    {
     "data": {
      "text/plain": [
       "rent amount (R$)       1.000000\n",
       "fire insurance (R$)    0.986893\n",
       "bathroom               0.666771\n",
       "parking spaces         0.574939\n",
       "rooms                  0.543383\n",
       "property tax (R$)      0.490425\n",
       "total (R$)             0.243772\n",
       "area                   0.165940\n",
       "hoa (R$)               0.032694\n",
       "Name: rent amount (R$), dtype: float64"
      ]
     },
     "execution_count": 38,
     "metadata": {},
     "output_type": "execute_result"
    }
   ],
   "source": [
    "# compute correlation matrix for training set\n",
    "corr_mat_train = train_set.corr()\n",
    "corr_mat_train['rent amount (R$)'].sort_values(ascending=False)"
   ]
  },
  {
   "cell_type": "markdown",
   "id": "d9c9d7e9",
   "metadata": {},
   "source": [
    "Over again, the attibutes `fire insurance`, `bathroom`, `parking spaces` and `rooms` have the standard Pearson correlation coefficient more than `0.5`.\n",
    "\n",
    "**Note:** It is worth remembering that a pattern like this can occur with training and test data but not with those that will be updated in a `production environment`."
   ]
  },
  {
   "cell_type": "code",
   "execution_count": 39,
   "id": "3bb64369",
   "metadata": {},
   "outputs": [
    {
     "data": {
      "image/png": "[encoded data removed]",
      "text/plain": [
       "<Figure size 2160x1080 with 36 Axes>"
      ]
     },
     "metadata": {
      "needs_background": "light"
     },
     "output_type": "display_data"
    }
   ],
   "source": [
    "attribs = ['rent amount (R$)', 'fire insurance (R$)', \n",
    "           'bathroom', 'parking spaces', \n",
    "           'rooms', 'property tax (R$)']\n",
    "scatter_matrix(train_set[attribs], figsize=(30, 15))\n",
    "plt.show()"
   ]
  },
  {
   "cell_type": "code",
   "execution_count": 40,
   "id": "9748c608",
   "metadata": {},
   "outputs": [
    {
     "data": {
      "text/html": [
       "<div>\n",
       "<style scoped>\n",
       "    .dataframe tbody tr th:only-of-type {\n",
       "        vertical-align: middle;\n",
       "    }\n",
       "\n",
       "    .dataframe tbody tr th {\n",
       "        vertical-align: top;\n",
       "    }\n",
       "\n",
       "    .dataframe thead th {\n",
       "        text-align: right;\n",
       "    }\n",
       "</style>\n",
       "<table border=\"1\" class=\"dataframe\">\n",
       "  <thead>\n",
       "    <tr style=\"text-align: right;\">\n",
       "      <th></th>\n",
       "      <th>area</th>\n",
       "      <th>rooms</th>\n",
       "      <th>bathroom</th>\n",
       "      <th>parking spaces</th>\n",
       "      <th>hoa (R$)</th>\n",
       "      <th>rent amount (R$)</th>\n",
       "      <th>property tax (R$)</th>\n",
       "      <th>fire insurance (R$)</th>\n",
       "      <th>total (R$)</th>\n",
       "    </tr>\n",
       "  </thead>\n",
       "  <tbody>\n",
       "    <tr>\n",
       "      <th>count</th>\n",
       "      <td>8553.000000</td>\n",
       "      <td>8553.000000</td>\n",
       "      <td>8553.000000</td>\n",
       "      <td>8553.000000</td>\n",
       "      <td>8.553000e+03</td>\n",
       "      <td>8553.000000</td>\n",
       "      <td>8553.000000</td>\n",
       "      <td>8553.000000</td>\n",
       "      <td>8.553000e+03</td>\n",
       "    </tr>\n",
       "    <tr>\n",
       "      <th>mean</th>\n",
       "      <td>151.573483</td>\n",
       "      <td>2.508593</td>\n",
       "      <td>2.233953</td>\n",
       "      <td>1.600140</td>\n",
       "      <td>1.225731e+03</td>\n",
       "      <td>3898.140419</td>\n",
       "      <td>337.448264</td>\n",
       "      <td>53.392845</td>\n",
       "      <td>5.514940e+03</td>\n",
       "    </tr>\n",
       "    <tr>\n",
       "      <th>std</th>\n",
       "      <td>596.686290</td>\n",
       "      <td>1.171737</td>\n",
       "      <td>1.399204</td>\n",
       "      <td>1.579455</td>\n",
       "      <td>1.742238e+04</td>\n",
       "      <td>3421.416350</td>\n",
       "      <td>701.488247</td>\n",
       "      <td>48.083458</td>\n",
       "      <td>1.797822e+04</td>\n",
       "    </tr>\n",
       "    <tr>\n",
       "      <th>min</th>\n",
       "      <td>11.000000</td>\n",
       "      <td>1.000000</td>\n",
       "      <td>1.000000</td>\n",
       "      <td>0.000000</td>\n",
       "      <td>0.000000e+00</td>\n",
       "      <td>450.000000</td>\n",
       "      <td>0.000000</td>\n",
       "      <td>3.000000</td>\n",
       "      <td>4.990000e+02</td>\n",
       "    </tr>\n",
       "    <tr>\n",
       "      <th>25%</th>\n",
       "      <td>56.000000</td>\n",
       "      <td>2.000000</td>\n",
       "      <td>1.000000</td>\n",
       "      <td>0.000000</td>\n",
       "      <td>1.570000e+02</td>\n",
       "      <td>1520.000000</td>\n",
       "      <td>38.000000</td>\n",
       "      <td>21.000000</td>\n",
       "      <td>2.067000e+03</td>\n",
       "    </tr>\n",
       "    <tr>\n",
       "      <th>50%</th>\n",
       "      <td>90.000000</td>\n",
       "      <td>2.000000</td>\n",
       "      <td>2.000000</td>\n",
       "      <td>1.000000</td>\n",
       "      <td>5.500000e+02</td>\n",
       "      <td>2650.000000</td>\n",
       "      <td>125.000000</td>\n",
       "      <td>36.000000</td>\n",
       "      <td>3.586000e+03</td>\n",
       "    </tr>\n",
       "    <tr>\n",
       "      <th>75%</th>\n",
       "      <td>182.000000</td>\n",
       "      <td>3.000000</td>\n",
       "      <td>3.000000</td>\n",
       "      <td>2.000000</td>\n",
       "      <td>1.200000e+03</td>\n",
       "      <td>5000.000000</td>\n",
       "      <td>375.000000</td>\n",
       "      <td>68.000000</td>\n",
       "      <td>6.764000e+03</td>\n",
       "    </tr>\n",
       "    <tr>\n",
       "      <th>max</th>\n",
       "      <td>46335.000000</td>\n",
       "      <td>13.000000</td>\n",
       "      <td>10.000000</td>\n",
       "      <td>10.000000</td>\n",
       "      <td>1.117000e+06</td>\n",
       "      <td>45000.000000</td>\n",
       "      <td>28120.000000</td>\n",
       "      <td>677.000000</td>\n",
       "      <td>1.120000e+06</td>\n",
       "    </tr>\n",
       "  </tbody>\n",
       "</table>\n",
       "</div>"
      ],
      "text/plain": [
       "               area        rooms     bathroom  parking spaces      hoa (R$)  \\\n",
       "count   8553.000000  8553.000000  8553.000000     8553.000000  8.553000e+03   \n",
       "mean     151.573483     2.508593     2.233953        1.600140  1.225731e+03   \n",
       "std      596.686290     1.171737     1.399204        1.579455  1.742238e+04   \n",
       "min       11.000000     1.000000     1.000000        0.000000  0.000000e+00   \n",
       "25%       56.000000     2.000000     1.000000        0.000000  1.570000e+02   \n",
       "50%       90.000000     2.000000     2.000000        1.000000  5.500000e+02   \n",
       "75%      182.000000     3.000000     3.000000        2.000000  1.200000e+03   \n",
       "max    46335.000000    13.000000    10.000000       10.000000  1.117000e+06   \n",
       "\n",
       "       rent amount (R$)  property tax (R$)  fire insurance (R$)    total (R$)  \n",
       "count       8553.000000        8553.000000          8553.000000  8.553000e+03  \n",
       "mean        3898.140419         337.448264            53.392845  5.514940e+03  \n",
       "std         3421.416350         701.488247            48.083458  1.797822e+04  \n",
       "min          450.000000           0.000000             3.000000  4.990000e+02  \n",
       "25%         1520.000000          38.000000            21.000000  2.067000e+03  \n",
       "50%         2650.000000         125.000000            36.000000  3.586000e+03  \n",
       "75%         5000.000000         375.000000            68.000000  6.764000e+03  \n",
       "max        45000.000000       28120.000000           677.000000  1.120000e+06  "
      ]
     },
     "execution_count": 40,
     "metadata": {},
     "output_type": "execute_result"
    }
   ],
   "source": [
    "train_set.describe()"
   ]
  },
  {
   "cell_type": "code",
   "execution_count": 41,
   "id": "8ce83b57",
   "metadata": {},
   "outputs": [
    {
     "data": {
      "image/png": "[encoded data removed]",
      "text/plain": [
       "<Figure size 1050x350 with 1 Axes>"
      ]
     },
     "metadata": {
      "needs_background": "light"
     },
     "output_type": "display_data"
    }
   ],
   "source": [
    "plt.figure(figsize=(15, 5), dpi=70)\n",
    "plt.scatter(x=train_set['property tax (R$)'], y=train_set['rent amount (R$)'], alpha=0.4)\n",
    "plt.show()"
   ]
  },
  {
   "cell_type": "markdown",
   "id": "bd6c221a",
   "metadata": {},
   "source": [
    "___"
   ]
  },
  {
   "cell_type": "markdown",
   "id": "ef2c096b",
   "metadata": {},
   "source": [
    "## Add new features"
   ]
  },
  {
   "cell_type": "code",
   "execution_count": 42,
   "id": "054fcacb",
   "metadata": {},
   "outputs": [
    {
     "data": {
      "text/plain": [
       "rent amount (R$)       1.000000\n",
       "fire insurance (R$)    0.986893\n",
       "bathroom               0.666771\n",
       "parking spaces         0.574939\n",
       "rooms                  0.543383\n",
       "property tax (R$)      0.490425\n",
       "total (R$)             0.243772\n",
       "area                   0.165940\n",
       "hoa (R$)               0.032694\n",
       "Name: rent amount (R$), dtype: float64"
      ]
     },
     "execution_count": 42,
     "metadata": {},
     "output_type": "execute_result"
    }
   ],
   "source": [
    "corr_mat_train['rent amount (R$)'].sort_values(ascending=False)"
   ]
  },
  {
   "cell_type": "code",
   "execution_count": 43,
   "id": "4ca6a571",
   "metadata": {},
   "outputs": [
    {
     "data": {
      "text/html": [
       "<style type=\"text/css\">\n",
       "#T_efc7d_row0_col0, #T_efc7d_row1_col1, #T_efc7d_row2_col2, #T_efc7d_row3_col3, #T_efc7d_row4_col4, #T_efc7d_row5_col5, #T_efc7d_row6_col6, #T_efc7d_row7_col7, #T_efc7d_row8_col8 {\n",
       "  background-color: #543005;\n",
       "  color: #f1f1f1;\n",
       "}\n",
       "#T_efc7d_row0_col1 {\n",
       "  background-color: #298b83;\n",
       "  color: #f1f1f1;\n",
       "}\n",
       "#T_efc7d_row0_col2, #T_efc7d_row0_col3, #T_efc7d_row1_col0, #T_efc7d_row3_col0 {\n",
       "  background-color: #278a82;\n",
       "  color: #f1f1f1;\n",
       "}\n",
       "#T_efc7d_row0_col4, #T_efc7d_row0_col8, #T_efc7d_row1_col4, #T_efc7d_row3_col4, #T_efc7d_row4_col0, #T_efc7d_row4_col1, #T_efc7d_row4_col2, #T_efc7d_row4_col3, #T_efc7d_row4_col5, #T_efc7d_row4_col6, #T_efc7d_row4_col7 {\n",
       "  background-color: #003c30;\n",
       "  color: #f1f1f1;\n",
       "}\n",
       "#T_efc7d_row0_col5, #T_efc7d_row8_col6 {\n",
       "  background-color: #147870;\n",
       "  color: #f1f1f1;\n",
       "}\n",
       "#T_efc7d_row0_col6 {\n",
       "  background-color: #187c74;\n",
       "  color: #f1f1f1;\n",
       "}\n",
       "#T_efc7d_row0_col7 {\n",
       "  background-color: #1a7e76;\n",
       "  color: #f1f1f1;\n",
       "}\n",
       "#T_efc7d_row1_col2 {\n",
       "  background-color: #d8b46c;\n",
       "  color: #000000;\n",
       "}\n",
       "#T_efc7d_row1_col3 {\n",
       "  background-color: #f3e4bb;\n",
       "  color: #000000;\n",
       "}\n",
       "#T_efc7d_row1_col5 {\n",
       "  background-color: #f5f1e6;\n",
       "  color: #000000;\n",
       "}\n",
       "#T_efc7d_row1_col6 {\n",
       "  background-color: #b1e1da;\n",
       "  color: #000000;\n",
       "}\n",
       "#T_efc7d_row1_col7 {\n",
       "  background-color: #f6eed9;\n",
       "  color: #000000;\n",
       "}\n",
       "#T_efc7d_row1_col8 {\n",
       "  background-color: #015f56;\n",
       "  color: #f1f1f1;\n",
       "}\n",
       "#T_efc7d_row2_col0, #T_efc7d_row5_col8 {\n",
       "  background-color: #3b9b93;\n",
       "  color: #f1f1f1;\n",
       "}\n",
       "#T_efc7d_row2_col1 {\n",
       "  background-color: #d3aa5f;\n",
       "  color: #000000;\n",
       "}\n",
       "#T_efc7d_row2_col3 {\n",
       "  background-color: #e1c684;\n",
       "  color: #000000;\n",
       "}\n",
       "#T_efc7d_row2_col4 {\n",
       "  background-color: #004e44;\n",
       "  color: #f1f1f1;\n",
       "}\n",
       "#T_efc7d_row2_col5 {\n",
       "  background-color: #e9d39d;\n",
       "  color: #000000;\n",
       "}\n",
       "#T_efc7d_row2_col6, #T_efc7d_row5_col6, #T_efc7d_row6_col5 {\n",
       "  background-color: #e9f2f1;\n",
       "  color: #000000;\n",
       "}\n",
       "#T_efc7d_row2_col7 {\n",
       "  background-color: #e7cf94;\n",
       "  color: #000000;\n",
       "}\n",
       "#T_efc7d_row2_col8 {\n",
       "  background-color: #1f827a;\n",
       "  color: #f1f1f1;\n",
       "}\n",
       "#T_efc7d_row3_col1 {\n",
       "  background-color: #f2e2b8;\n",
       "  color: #000000;\n",
       "}\n",
       "#T_efc7d_row3_col2 {\n",
       "  background-color: #e5cc8f;\n",
       "  color: #000000;\n",
       "}\n",
       "#T_efc7d_row3_col5 {\n",
       "  background-color: #f6edd7;\n",
       "  color: #000000;\n",
       "}\n",
       "#T_efc7d_row3_col6 {\n",
       "  background-color: #d2ede9;\n",
       "  color: #000000;\n",
       "}\n",
       "#T_efc7d_row3_col7 {\n",
       "  background-color: #f6eacb;\n",
       "  color: #000000;\n",
       "}\n",
       "#T_efc7d_row3_col8 {\n",
       "  background-color: #016259;\n",
       "  color: #f1f1f1;\n",
       "}\n",
       "#T_efc7d_row4_col8 {\n",
       "  background-color: #613806;\n",
       "  color: #f1f1f1;\n",
       "}\n",
       "#T_efc7d_row5_col0 {\n",
       "  background-color: #21847c;\n",
       "  color: #f1f1f1;\n",
       "}\n",
       "#T_efc7d_row5_col1 {\n",
       "  background-color: #f5f0e0;\n",
       "  color: #000000;\n",
       "}\n",
       "#T_efc7d_row5_col2 {\n",
       "  background-color: #ead59f;\n",
       "  color: #000000;\n",
       "}\n",
       "#T_efc7d_row5_col3 {\n",
       "  background-color: #f6ecd1;\n",
       "  color: #000000;\n",
       "}\n",
       "#T_efc7d_row5_col4, #T_efc7d_row6_col4 {\n",
       "  background-color: #00483d;\n",
       "  color: #f1f1f1;\n",
       "}\n",
       "#T_efc7d_row5_col7, #T_efc7d_row7_col5 {\n",
       "  background-color: #5b3406;\n",
       "  color: #f1f1f1;\n",
       "}\n",
       "#T_efc7d_row6_col0 {\n",
       "  background-color: #258880;\n",
       "  color: #f1f1f1;\n",
       "}\n",
       "#T_efc7d_row6_col1 {\n",
       "  background-color: #bce5df;\n",
       "  color: #000000;\n",
       "}\n",
       "#T_efc7d_row6_col2 {\n",
       "  background-color: #e4f1ef;\n",
       "  color: #000000;\n",
       "}\n",
       "#T_efc7d_row6_col3 {\n",
       "  background-color: #d9eeeb;\n",
       "  color: #000000;\n",
       "}\n",
       "#T_efc7d_row6_col7, #T_efc7d_row7_col6 {\n",
       "  background-color: #e6f1f0;\n",
       "  color: #000000;\n",
       "}\n",
       "#T_efc7d_row6_col8, #T_efc7d_row8_col3 {\n",
       "  background-color: #0e726a;\n",
       "  color: #f1f1f1;\n",
       "}\n",
       "#T_efc7d_row7_col0 {\n",
       "  background-color: #23867e;\n",
       "  color: #f1f1f1;\n",
       "}\n",
       "#T_efc7d_row7_col1 {\n",
       "  background-color: #f6edd5;\n",
       "  color: #000000;\n",
       "}\n",
       "#T_efc7d_row7_col2 {\n",
       "  background-color: #e8d29a;\n",
       "  color: #000000;\n",
       "}\n",
       "#T_efc7d_row7_col3 {\n",
       "  background-color: #f6e9c7;\n",
       "  color: #000000;\n",
       "}\n",
       "#T_efc7d_row7_col4 {\n",
       "  background-color: #00463b;\n",
       "  color: #f1f1f1;\n",
       "}\n",
       "#T_efc7d_row7_col8 {\n",
       "  background-color: #35978f;\n",
       "  color: #f1f1f1;\n",
       "}\n",
       "#T_efc7d_row8_col0 {\n",
       "  background-color: #004b40;\n",
       "  color: #f1f1f1;\n",
       "}\n",
       "#T_efc7d_row8_col1 {\n",
       "  background-color: #0a6f67;\n",
       "  color: #f1f1f1;\n",
       "}\n",
       "#T_efc7d_row8_col2 {\n",
       "  background-color: #1d8078;\n",
       "  color: #f1f1f1;\n",
       "}\n",
       "#T_efc7d_row8_col4 {\n",
       "  background-color: #5f3606;\n",
       "  color: #f1f1f1;\n",
       "}\n",
       "#T_efc7d_row8_col5 {\n",
       "  background-color: #419f97;\n",
       "  color: #f1f1f1;\n",
       "}\n",
       "#T_efc7d_row8_col7 {\n",
       "  background-color: #3e9d95;\n",
       "  color: #f1f1f1;\n",
       "}\n",
       "</style>\n",
       "<table id=\"T_efc7d\">\n",
       "  <thead>\n",
       "    <tr>\n",
       "      <th class=\"blank level0\" >&nbsp;</th>\n",
       "      <th id=\"T_efc7d_level0_col0\" class=\"col_heading level0 col0\" >area</th>\n",
       "      <th id=\"T_efc7d_level0_col1\" class=\"col_heading level0 col1\" >rooms</th>\n",
       "      <th id=\"T_efc7d_level0_col2\" class=\"col_heading level0 col2\" >bathroom</th>\n",
       "      <th id=\"T_efc7d_level0_col3\" class=\"col_heading level0 col3\" >parking spaces</th>\n",
       "      <th id=\"T_efc7d_level0_col4\" class=\"col_heading level0 col4\" >hoa (R$)</th>\n",
       "      <th id=\"T_efc7d_level0_col5\" class=\"col_heading level0 col5\" >rent amount (R$)</th>\n",
       "      <th id=\"T_efc7d_level0_col6\" class=\"col_heading level0 col6\" >property tax (R$)</th>\n",
       "      <th id=\"T_efc7d_level0_col7\" class=\"col_heading level0 col7\" >fire insurance (R$)</th>\n",
       "      <th id=\"T_efc7d_level0_col8\" class=\"col_heading level0 col8\" >total (R$)</th>\n",
       "    </tr>\n",
       "  </thead>\n",
       "  <tbody>\n",
       "    <tr>\n",
       "      <th id=\"T_efc7d_level0_row0\" class=\"row_heading level0 row0\" >area</th>\n",
       "      <td id=\"T_efc7d_row0_col0\" class=\"data row0 col0\" >1.000000</td>\n",
       "      <td id=\"T_efc7d_row0_col1\" class=\"data row0 col1\" >0.179784</td>\n",
       "      <td id=\"T_efc7d_row0_col2\" class=\"data row0 col2\" >0.213165</td>\n",
       "      <td id=\"T_efc7d_row0_col3\" class=\"data row0 col3\" >0.178004</td>\n",
       "      <td id=\"T_efc7d_row0_col4\" class=\"data row0 col4\" >0.005276</td>\n",
       "      <td id=\"T_efc7d_row0_col5\" class=\"data row0 col5\" >0.165940</td>\n",
       "      <td id=\"T_efc7d_row0_col6\" class=\"data row0 col6\" >0.172848</td>\n",
       "      <td id=\"T_efc7d_row0_col7\" class=\"data row0 col7\" >0.172340</td>\n",
       "      <td id=\"T_efc7d_row0_col8\" class=\"data row0 col8\" >0.043900</td>\n",
       "    </tr>\n",
       "    <tr>\n",
       "      <th id=\"T_efc7d_level0_row1\" class=\"row_heading level0 row1\" >rooms</th>\n",
       "      <td id=\"T_efc7d_row1_col0\" class=\"data row1 col0\" >0.179784</td>\n",
       "      <td id=\"T_efc7d_row1_col1\" class=\"data row1 col1\" >1.000000</td>\n",
       "      <td id=\"T_efc7d_row1_col2\" class=\"data row1 col2\" >0.735776</td>\n",
       "      <td id=\"T_efc7d_row1_col3\" class=\"data row1 col3\" >0.614788</td>\n",
       "      <td id=\"T_efc7d_row1_col4\" class=\"data row1 col4\" >0.002472</td>\n",
       "      <td id=\"T_efc7d_row1_col5\" class=\"data row1 col5\" >0.543383</td>\n",
       "      <td id=\"T_efc7d_row1_col6\" class=\"data row1 col6\" >0.387862</td>\n",
       "      <td id=\"T_efc7d_row1_col7\" class=\"data row1 col7\" >0.567105</td>\n",
       "      <td id=\"T_efc7d_row1_col8\" class=\"data row1 col8\" >0.122458</td>\n",
       "    </tr>\n",
       "    <tr>\n",
       "      <th id=\"T_efc7d_level0_row2\" class=\"row_heading level0 row2\" >bathroom</th>\n",
       "      <td id=\"T_efc7d_row2_col0\" class=\"data row2 col0\" >0.213165</td>\n",
       "      <td id=\"T_efc7d_row2_col1\" class=\"data row2 col1\" >0.735776</td>\n",
       "      <td id=\"T_efc7d_row2_col2\" class=\"data row2 col2\" >1.000000</td>\n",
       "      <td id=\"T_efc7d_row2_col3\" class=\"data row2 col3\" >0.689434</td>\n",
       "      <td id=\"T_efc7d_row2_col4\" class=\"data row2 col4\" >0.048337</td>\n",
       "      <td id=\"T_efc7d_row2_col5\" class=\"data row2 col5\" >0.666771</td>\n",
       "      <td id=\"T_efc7d_row2_col6\" class=\"data row2 col6\" >0.489863</td>\n",
       "      <td id=\"T_efc7d_row2_col7\" class=\"data row2 col7\" >0.674617</td>\n",
       "      <td id=\"T_efc7d_row2_col8\" class=\"data row2 col8\" >0.194660</td>\n",
       "    </tr>\n",
       "    <tr>\n",
       "      <th id=\"T_efc7d_level0_row3\" class=\"row_heading level0 row3\" >parking spaces</th>\n",
       "      <td id=\"T_efc7d_row3_col0\" class=\"data row3 col0\" >0.178004</td>\n",
       "      <td id=\"T_efc7d_row3_col1\" class=\"data row3 col1\" >0.614788</td>\n",
       "      <td id=\"T_efc7d_row3_col2\" class=\"data row3 col2\" >0.689434</td>\n",
       "      <td id=\"T_efc7d_row3_col3\" class=\"data row3 col3\" >1.000000</td>\n",
       "      <td id=\"T_efc7d_row3_col4\" class=\"data row3 col4\" >0.004350</td>\n",
       "      <td id=\"T_efc7d_row3_col5\" class=\"data row3 col5\" >0.574939</td>\n",
       "      <td id=\"T_efc7d_row3_col6\" class=\"data row3 col6\" >0.440574</td>\n",
       "      <td id=\"T_efc7d_row3_col7\" class=\"data row3 col7\" >0.593417</td>\n",
       "      <td id=\"T_efc7d_row3_col8\" class=\"data row3 col8\" >0.132410</td>\n",
       "    </tr>\n",
       "    <tr>\n",
       "      <th id=\"T_efc7d_level0_row4\" class=\"row_heading level0 row4\" >hoa (R$)</th>\n",
       "      <td id=\"T_efc7d_row4_col0\" class=\"data row4 col0\" >0.005276</td>\n",
       "      <td id=\"T_efc7d_row4_col1\" class=\"data row4 col1\" >0.002472</td>\n",
       "      <td id=\"T_efc7d_row4_col2\" class=\"data row4 col2\" >0.048337</td>\n",
       "      <td id=\"T_efc7d_row4_col3\" class=\"data row4 col3\" >0.004350</td>\n",
       "      <td id=\"T_efc7d_row4_col4\" class=\"data row4 col4\" >1.000000</td>\n",
       "      <td id=\"T_efc7d_row4_col5\" class=\"data row4 col5\" >0.032694</td>\n",
       "      <td id=\"T_efc7d_row4_col6\" class=\"data row4 col6\" >0.031255</td>\n",
       "      <td id=\"T_efc7d_row4_col7\" class=\"data row4 col7\" >0.026166</td>\n",
       "      <td id=\"T_efc7d_row4_col8\" class=\"data row4 col8\" >0.976688</td>\n",
       "    </tr>\n",
       "    <tr>\n",
       "      <th id=\"T_efc7d_level0_row5\" class=\"row_heading level0 row5\" >rent amount (R$)</th>\n",
       "      <td id=\"T_efc7d_row5_col0\" class=\"data row5 col0\" >0.165940</td>\n",
       "      <td id=\"T_efc7d_row5_col1\" class=\"data row5 col1\" >0.543383</td>\n",
       "      <td id=\"T_efc7d_row5_col2\" class=\"data row5 col2\" >0.666771</td>\n",
       "      <td id=\"T_efc7d_row5_col3\" class=\"data row5 col3\" >0.574939</td>\n",
       "      <td id=\"T_efc7d_row5_col4\" class=\"data row5 col4\" >0.032694</td>\n",
       "      <td id=\"T_efc7d_row5_col5\" class=\"data row5 col5\" >1.000000</td>\n",
       "      <td id=\"T_efc7d_row5_col6\" class=\"data row5 col6\" >0.490425</td>\n",
       "      <td id=\"T_efc7d_row5_col7\" class=\"data row5 col7\" >0.986893</td>\n",
       "      <td id=\"T_efc7d_row5_col8\" class=\"data row5 col8\" >0.243772</td>\n",
       "    </tr>\n",
       "    <tr>\n",
       "      <th id=\"T_efc7d_level0_row6\" class=\"row_heading level0 row6\" >property tax (R$)</th>\n",
       "      <td id=\"T_efc7d_row6_col0\" class=\"data row6 col0\" >0.172848</td>\n",
       "      <td id=\"T_efc7d_row6_col1\" class=\"data row6 col1\" >0.387862</td>\n",
       "      <td id=\"T_efc7d_row6_col2\" class=\"data row6 col2\" >0.489863</td>\n",
       "      <td id=\"T_efc7d_row6_col3\" class=\"data row6 col3\" >0.440574</td>\n",
       "      <td id=\"T_efc7d_row6_col4\" class=\"data row6 col4\" >0.031255</td>\n",
       "      <td id=\"T_efc7d_row6_col5\" class=\"data row6 col5\" >0.490425</td>\n",
       "      <td id=\"T_efc7d_row6_col6\" class=\"data row6 col6\" >1.000000</td>\n",
       "      <td id=\"T_efc7d_row6_col7\" class=\"data row6 col7\" >0.482529</td>\n",
       "      <td id=\"T_efc7d_row6_col8\" class=\"data row6 col8\" >0.163934</td>\n",
       "    </tr>\n",
       "    <tr>\n",
       "      <th id=\"T_efc7d_level0_row7\" class=\"row_heading level0 row7\" >fire insurance (R$)</th>\n",
       "      <td id=\"T_efc7d_row7_col0\" class=\"data row7 col0\" >0.172340</td>\n",
       "      <td id=\"T_efc7d_row7_col1\" class=\"data row7 col1\" >0.567105</td>\n",
       "      <td id=\"T_efc7d_row7_col2\" class=\"data row7 col2\" >0.674617</td>\n",
       "      <td id=\"T_efc7d_row7_col3\" class=\"data row7 col3\" >0.593417</td>\n",
       "      <td id=\"T_efc7d_row7_col4\" class=\"data row7 col4\" >0.026166</td>\n",
       "      <td id=\"T_efc7d_row7_col5\" class=\"data row7 col5\" >0.986893</td>\n",
       "      <td id=\"T_efc7d_row7_col6\" class=\"data row7 col6\" >0.482529</td>\n",
       "      <td id=\"T_efc7d_row7_col7\" class=\"data row7 col7\" >1.000000</td>\n",
       "      <td id=\"T_efc7d_row7_col8\" class=\"data row7 col8\" >0.234678</td>\n",
       "    </tr>\n",
       "    <tr>\n",
       "      <th id=\"T_efc7d_level0_row8\" class=\"row_heading level0 row8\" >total (R$)</th>\n",
       "      <td id=\"T_efc7d_row8_col0\" class=\"data row8 col0\" >0.043900</td>\n",
       "      <td id=\"T_efc7d_row8_col1\" class=\"data row8 col1\" >0.122458</td>\n",
       "      <td id=\"T_efc7d_row8_col2\" class=\"data row8 col2\" >0.194660</td>\n",
       "      <td id=\"T_efc7d_row8_col3\" class=\"data row8 col3\" >0.132410</td>\n",
       "      <td id=\"T_efc7d_row8_col4\" class=\"data row8 col4\" >0.976688</td>\n",
       "      <td id=\"T_efc7d_row8_col5\" class=\"data row8 col5\" >0.243772</td>\n",
       "      <td id=\"T_efc7d_row8_col6\" class=\"data row8 col6\" >0.163934</td>\n",
       "      <td id=\"T_efc7d_row8_col7\" class=\"data row8 col7\" >0.234678</td>\n",
       "      <td id=\"T_efc7d_row8_col8\" class=\"data row8 col8\" >1.000000</td>\n",
       "    </tr>\n",
       "  </tbody>\n",
       "</table>\n"
      ],
      "text/plain": [
       "<pandas.io.formats.style.Styler at 0x7efdba7c2760>"
      ]
     },
     "execution_count": 43,
     "metadata": {},
     "output_type": "execute_result"
    }
   ],
   "source": [
    "corr_mat_train.style.background_gradient(cmap='BrBG_r')"
   ]
  },
  {
   "cell_type": "markdown",
   "id": "e2bf71de",
   "metadata": {},
   "source": [
    "<a id='add_features'></a>\n",
    "\n",
    "Click [here](#var_descriptions) for remember description of all variables."
   ]
  },
  {
   "cell_type": "code",
   "execution_count": 44,
   "id": "6a9050d6",
   "metadata": {},
   "outputs": [],
   "source": [
    "# add features\n",
    "train_set_new = train_set.copy()\n",
    "\n",
    "train_set_new['hoa_per_bath'] = train_set_new['hoa (R$)']/train_set_new['bathroom']\n",
    "train_set_new['hoa_per_parking'] = train_set_new['hoa (R$)']/train_set_new['parking spaces']\n",
    "train_set_new['hoa_per_room'] = train_set_new['hoa (R$)']/train_set_new['rooms']\n",
    "train_set_new['hoa_per_area'] = train_set_new['hoa (R$)']/train_set_new['area']\n",
    "train_set_new['hoa_per_all'] = train_set_new['hoa (R$)']/(train_set_new['bathroom'] + train_set_new['rooms'])\n",
    "\n",
    "train_set_new['tax_per_bath'] = train_set_new['property tax (R$)']/train_set_new['bathroom']\n",
    "train_set_new['tax_per_parking'] = train_set_new['property tax (R$)']/train_set_new['parking spaces']\n",
    "train_set_new['tax_per_room'] = train_set_new['property tax (R$)']/train_set_new['rooms']\n",
    "train_set_new['tax_per_area'] = train_set_new['property tax (R$)']/train_set_new['area']"
   ]
  },
  {
   "cell_type": "code",
   "execution_count": 45,
   "id": "f5220007",
   "metadata": {},
   "outputs": [
    {
     "data": {
      "text/plain": [
       "rent amount (R$)       1.000000\n",
       "fire insurance (R$)    0.986893\n",
       "bathroom               0.666771\n",
       "parking spaces         0.574939\n",
       "rooms                  0.543383\n",
       "property tax (R$)      0.490425\n",
       "tax_per_room           0.345984\n",
       "tax_per_bath           0.279807\n",
       "total (R$)             0.243772\n",
       "tax_per_parking        0.201949\n",
       "area                   0.165940\n",
       "tax_per_area           0.148475\n",
       "hoa_per_parking        0.089405\n",
       "hoa (R$)               0.032694\n",
       "hoa_per_bath           0.016506\n",
       "hoa_per_all            0.012126\n",
       "hoa_per_room           0.003332\n",
       "hoa_per_area           0.000138\n",
       "Name: rent amount (R$), dtype: float64"
      ]
     },
     "execution_count": 45,
     "metadata": {},
     "output_type": "execute_result"
    }
   ],
   "source": [
    "corr_mat_new = train_set_new.corr()\n",
    "corr_mat_new['rent amount (R$)'].sort_values(ascending=False)"
   ]
  },
  {
   "cell_type": "markdown",
   "id": "a21b4d06",
   "metadata": {},
   "source": [
    "**Note:** From the new features above, only new variable `hoa_per_parking` increase the old `hoa` correlation with the target. Maybe we can consider others new features combine the actual features or external factor."
   ]
  },
  {
   "cell_type": "markdown",
   "id": "5d3945be",
   "metadata": {},
   "source": [
    "# Prediction with machine learning models\n",
    "___"
   ]
  },
  {
   "cell_type": "code",
   "execution_count": 46,
   "id": "c07688aa",
   "metadata": {},
   "outputs": [
    {
     "data": {
      "text/plain": [
       "Index(['city', 'area', 'rooms', 'bathroom', 'parking spaces', 'animal',\n",
       "       'furniture', 'hoa (R$)', 'rent amount (R$)', 'property tax (R$)',\n",
       "       'fire insurance (R$)', 'total (R$)'],\n",
       "      dtype='object')"
      ]
     },
     "execution_count": 46,
     "metadata": {},
     "output_type": "execute_result"
    }
   ],
   "source": [
    "train_set.columns"
   ]
  },
  {
   "cell_type": "code",
   "execution_count": 47,
   "id": "1190cf60",
   "metadata": {},
   "outputs": [
    {
     "data": {
      "text/plain": [
       "(8553, 12)"
      ]
     },
     "execution_count": 47,
     "metadata": {},
     "output_type": "execute_result"
    }
   ],
   "source": [
    "train_set.shape"
   ]
  },
  {
   "cell_type": "markdown",
   "id": "99dcb779",
   "metadata": {},
   "source": [
    "## Define X and y for training and test sets"
   ]
  },
  {
   "cell_type": "code",
   "execution_count": 48,
   "id": "0b1599f1",
   "metadata": {},
   "outputs": [],
   "source": [
    "# choose original train_set as features (dropping target y)\n",
    "y = train_set['rent amount (R$)'].copy()\n",
    "X = train_set.drop('rent amount (R$)', axis=1)\n",
    "\n",
    "X_test = strat_test_set.drop(['floor', 'rent amount (R$)'], axis=1)\n",
    "y_test = strat_test_set['rent amount (R$)'].copy()\n",
    "\n",
    "# choose train_set plus new features as X (dropping target y)\n",
    "#X = train_set_new.drop('rent amount (R$)', axis=1)\n",
    "#y = train_set_new['rent amount (R$)'].copy()"
   ]
  },
  {
   "cell_type": "code",
   "execution_count": 49,
   "id": "c2054d5f",
   "metadata": {},
   "outputs": [
    {
     "data": {
      "text/html": [
       "<div>\n",
       "<style scoped>\n",
       "    .dataframe tbody tr th:only-of-type {\n",
       "        vertical-align: middle;\n",
       "    }\n",
       "\n",
       "    .dataframe tbody tr th {\n",
       "        vertical-align: top;\n",
       "    }\n",
       "\n",
       "    .dataframe thead th {\n",
       "        text-align: right;\n",
       "    }\n",
       "</style>\n",
       "<table border=\"1\" class=\"dataframe\">\n",
       "  <thead>\n",
       "    <tr style=\"text-align: right;\">\n",
       "      <th></th>\n",
       "      <th>city</th>\n",
       "      <th>area</th>\n",
       "      <th>rooms</th>\n",
       "      <th>bathroom</th>\n",
       "      <th>parking spaces</th>\n",
       "      <th>animal</th>\n",
       "      <th>furniture</th>\n",
       "      <th>hoa (R$)</th>\n",
       "      <th>property tax (R$)</th>\n",
       "      <th>fire insurance (R$)</th>\n",
       "      <th>total (R$)</th>\n",
       "    </tr>\n",
       "  </thead>\n",
       "  <tbody>\n",
       "    <tr>\n",
       "      <th>6762</th>\n",
       "      <td>Rio de Janeiro</td>\n",
       "      <td>200</td>\n",
       "      <td>2</td>\n",
       "      <td>1</td>\n",
       "      <td>0</td>\n",
       "      <td>acept</td>\n",
       "      <td>not furnished</td>\n",
       "      <td>0</td>\n",
       "      <td>0</td>\n",
       "      <td>46</td>\n",
       "      <td>3046</td>\n",
       "    </tr>\n",
       "    <tr>\n",
       "      <th>5639</th>\n",
       "      <td>São Paulo</td>\n",
       "      <td>59</td>\n",
       "      <td>2</td>\n",
       "      <td>1</td>\n",
       "      <td>1</td>\n",
       "      <td>not acept</td>\n",
       "      <td>not furnished</td>\n",
       "      <td>490</td>\n",
       "      <td>0</td>\n",
       "      <td>22</td>\n",
       "      <td>2212</td>\n",
       "    </tr>\n",
       "    <tr>\n",
       "      <th>2098</th>\n",
       "      <td>Belo Horizonte</td>\n",
       "      <td>80</td>\n",
       "      <td>3</td>\n",
       "      <td>2</td>\n",
       "      <td>2</td>\n",
       "      <td>acept</td>\n",
       "      <td>furnished</td>\n",
       "      <td>280</td>\n",
       "      <td>126</td>\n",
       "      <td>34</td>\n",
       "      <td>2940</td>\n",
       "    </tr>\n",
       "  </tbody>\n",
       "</table>\n",
       "</div>"
      ],
      "text/plain": [
       "                city  area  rooms  bathroom  parking spaces     animal  \\\n",
       "6762  Rio de Janeiro   200      2         1               0      acept   \n",
       "5639       São Paulo    59      2         1               1  not acept   \n",
       "2098  Belo Horizonte    80      3         2               2      acept   \n",
       "\n",
       "          furniture  hoa (R$)  property tax (R$)  fire insurance (R$)  \\\n",
       "6762  not furnished         0                  0                   46   \n",
       "5639  not furnished       490                  0                   22   \n",
       "2098      furnished       280                126                   34   \n",
       "\n",
       "      total (R$)  \n",
       "6762        3046  \n",
       "5639        2212  \n",
       "2098        2940  "
      ]
     },
     "execution_count": 49,
     "metadata": {},
     "output_type": "execute_result"
    }
   ],
   "source": [
    "X.head(3)"
   ]
  },
  {
   "cell_type": "code",
   "execution_count": 50,
   "id": "9d58df21",
   "metadata": {},
   "outputs": [
    {
     "data": {
      "text/plain": [
       "6762    3000\n",
       "5639    1700\n",
       "2098    2500\n",
       "Name: rent amount (R$), dtype: int64"
      ]
     },
     "execution_count": 50,
     "metadata": {},
     "output_type": "execute_result"
    }
   ],
   "source": [
    "y.head(3)"
   ]
  },
  {
   "cell_type": "markdown",
   "id": "33e6ed8f",
   "metadata": {},
   "source": [
    "## Encode categorical features"
   ]
  },
  {
   "cell_type": "code",
   "execution_count": 51,
   "id": "5f62ee20",
   "metadata": {},
   "outputs": [
    {
     "data": {
      "text/plain": [
       "(8553, 11)"
      ]
     },
     "execution_count": 51,
     "metadata": {},
     "output_type": "execute_result"
    }
   ],
   "source": [
    "X.shape"
   ]
  },
  {
   "cell_type": "code",
   "execution_count": 52,
   "id": "5335cbb1",
   "metadata": {},
   "outputs": [
    {
     "data": {
      "text/plain": [
       "Index(['city', 'area', 'rooms', 'bathroom', 'parking spaces', 'animal',\n",
       "       'furniture', 'hoa (R$)', 'property tax (R$)', 'fire insurance (R$)',\n",
       "       'total (R$)'],\n",
       "      dtype='object')"
      ]
     },
     "execution_count": 52,
     "metadata": {},
     "output_type": "execute_result"
    }
   ],
   "source": [
    "X.columns"
   ]
  },
  {
   "cell_type": "code",
   "execution_count": 53,
   "id": "a0b0b42f",
   "metadata": {},
   "outputs": [],
   "source": [
    "def encode_features(X_encoded=X.copy(), cat_features_list=['city', 'animal', 'furniture']):\n",
    "  \n",
    "  # add features encoded  \n",
    "  print('1: ', X_encoded.shape)\n",
    "  for attr in cat_features_list:\n",
    "    encoder = OrdinalEncoder()\n",
    "    attr_encoded = encoder.fit_transform(X_encoded[[attr]])\n",
    "    print('length attr_enconded = ', len(attr_encoded))\n",
    "    print('pd.DataFrame(...).shape = ', \n",
    "          pd.DataFrame(data=attr_encoded, columns=[attr+'_code'], dtype=np.int64).shape)    \n",
    "    X_encoded[attr+'_code'] = attr_encoded\n",
    "    print('2: ', X_encoded.shape)\n",
    "    print('>> Attribute \"{}\" with values \"{}\" were encoded as \"{}\".\\n'\\\n",
    "          .format(attr, X[attr].unique().tolist(), X_encoded[attr+'_code'].unique().tolist()))\n",
    "    X_encoded = X_encoded.drop(attr, axis=1)\n",
    "    print('3: ', X_encoded.shape)\n",
    "\n",
    "  # divide train set in numerical and categorical parts\n",
    "  X_num = X_encoded.iloc[:, :-len(cat_features_list)]\n",
    "  X_cat = X_encoded.iloc[:, -len(cat_features_list):]\n",
    "  del X_encoded\n",
    "  return X_num, X_cat"
   ]
  },
  {
   "cell_type": "code",
   "execution_count": 54,
   "id": "171eb482",
   "metadata": {},
   "outputs": [
    {
     "name": "stdout",
     "output_type": "stream",
     "text": [
      "1:  (8553, 11)\n",
      "length attr_enconded =  8553\n",
      "pd.DataFrame(...).shape =  (8553, 1)\n",
      "2:  (8553, 12)\n",
      ">> Attribute \"city\" with values \"['Rio de Janeiro', 'São Paulo', 'Belo Horizonte', 'Campinas', 'Porto Alegre']\" were encoded as \"[3.0, 4.0, 0.0, 1.0, 2.0]\".\n",
      "\n",
      "3:  (8553, 11)\n",
      "length attr_enconded =  8553\n",
      "pd.DataFrame(...).shape =  (8553, 1)\n",
      "2:  (8553, 12)\n",
      ">> Attribute \"animal\" with values \"['acept', 'not acept']\" were encoded as \"[0.0, 1.0]\".\n",
      "\n",
      "3:  (8553, 11)\n",
      "length attr_enconded =  8553\n",
      "pd.DataFrame(...).shape =  (8553, 1)\n",
      "2:  (8553, 12)\n",
      ">> Attribute \"furniture\" with values \"['not furnished', 'furnished']\" were encoded as \"[1.0, 0.0]\".\n",
      "\n",
      "3:  (8553, 11)\n"
     ]
    }
   ],
   "source": [
    "X_num, X_cat = encode_features(X_encoded=X.copy(), cat_features_list=['city', 'animal', 'furniture'])"
   ]
  },
  {
   "cell_type": "code",
   "execution_count": 55,
   "id": "35f09122",
   "metadata": {},
   "outputs": [
    {
     "data": {
      "text/plain": [
       "(8553, 8)"
      ]
     },
     "execution_count": 55,
     "metadata": {},
     "output_type": "execute_result"
    }
   ],
   "source": [
    "X_num.shape"
   ]
  },
  {
   "cell_type": "code",
   "execution_count": 56,
   "id": "fb1052fa",
   "metadata": {},
   "outputs": [
    {
     "data": {
      "text/plain": [
       "(8553, 3)"
      ]
     },
     "execution_count": 56,
     "metadata": {},
     "output_type": "execute_result"
    }
   ],
   "source": [
    "X_cat.shape"
   ]
  },
  {
   "cell_type": "code",
   "execution_count": 57,
   "id": "f016f225",
   "metadata": {},
   "outputs": [
    {
     "data": {
      "text/html": [
       "<div>\n",
       "<style scoped>\n",
       "    .dataframe tbody tr th:only-of-type {\n",
       "        vertical-align: middle;\n",
       "    }\n",
       "\n",
       "    .dataframe tbody tr th {\n",
       "        vertical-align: top;\n",
       "    }\n",
       "\n",
       "    .dataframe thead th {\n",
       "        text-align: right;\n",
       "    }\n",
       "</style>\n",
       "<table border=\"1\" class=\"dataframe\">\n",
       "  <thead>\n",
       "    <tr style=\"text-align: right;\">\n",
       "      <th></th>\n",
       "      <th>area</th>\n",
       "      <th>rooms</th>\n",
       "      <th>bathroom</th>\n",
       "      <th>parking spaces</th>\n",
       "      <th>hoa (R$)</th>\n",
       "      <th>property tax (R$)</th>\n",
       "      <th>fire insurance (R$)</th>\n",
       "      <th>total (R$)</th>\n",
       "    </tr>\n",
       "  </thead>\n",
       "  <tbody>\n",
       "    <tr>\n",
       "      <th>6762</th>\n",
       "      <td>200</td>\n",
       "      <td>2</td>\n",
       "      <td>1</td>\n",
       "      <td>0</td>\n",
       "      <td>0</td>\n",
       "      <td>0</td>\n",
       "      <td>46</td>\n",
       "      <td>3046</td>\n",
       "    </tr>\n",
       "    <tr>\n",
       "      <th>5639</th>\n",
       "      <td>59</td>\n",
       "      <td>2</td>\n",
       "      <td>1</td>\n",
       "      <td>1</td>\n",
       "      <td>490</td>\n",
       "      <td>0</td>\n",
       "      <td>22</td>\n",
       "      <td>2212</td>\n",
       "    </tr>\n",
       "    <tr>\n",
       "      <th>2098</th>\n",
       "      <td>80</td>\n",
       "      <td>3</td>\n",
       "      <td>2</td>\n",
       "      <td>2</td>\n",
       "      <td>280</td>\n",
       "      <td>126</td>\n",
       "      <td>34</td>\n",
       "      <td>2940</td>\n",
       "    </tr>\n",
       "  </tbody>\n",
       "</table>\n",
       "</div>"
      ],
      "text/plain": [
       "      area  rooms  bathroom  parking spaces  hoa (R$)  property tax (R$)  \\\n",
       "6762   200      2         1               0         0                  0   \n",
       "5639    59      2         1               1       490                  0   \n",
       "2098    80      3         2               2       280                126   \n",
       "\n",
       "      fire insurance (R$)  total (R$)  \n",
       "6762                   46        3046  \n",
       "5639                   22        2212  \n",
       "2098                   34        2940  "
      ]
     },
     "execution_count": 57,
     "metadata": {},
     "output_type": "execute_result"
    }
   ],
   "source": [
    "X_num.head(3)"
   ]
  },
  {
   "cell_type": "code",
   "execution_count": 58,
   "id": "c6ff9aac",
   "metadata": {},
   "outputs": [
    {
     "data": {
      "text/html": [
       "<div>\n",
       "<style scoped>\n",
       "    .dataframe tbody tr th:only-of-type {\n",
       "        vertical-align: middle;\n",
       "    }\n",
       "\n",
       "    .dataframe tbody tr th {\n",
       "        vertical-align: top;\n",
       "    }\n",
       "\n",
       "    .dataframe thead th {\n",
       "        text-align: right;\n",
       "    }\n",
       "</style>\n",
       "<table border=\"1\" class=\"dataframe\">\n",
       "  <thead>\n",
       "    <tr style=\"text-align: right;\">\n",
       "      <th></th>\n",
       "      <th>city_code</th>\n",
       "      <th>animal_code</th>\n",
       "      <th>furniture_code</th>\n",
       "    </tr>\n",
       "  </thead>\n",
       "  <tbody>\n",
       "    <tr>\n",
       "      <th>6762</th>\n",
       "      <td>3.0</td>\n",
       "      <td>0.0</td>\n",
       "      <td>1.0</td>\n",
       "    </tr>\n",
       "    <tr>\n",
       "      <th>5639</th>\n",
       "      <td>4.0</td>\n",
       "      <td>1.0</td>\n",
       "      <td>1.0</td>\n",
       "    </tr>\n",
       "    <tr>\n",
       "      <th>2098</th>\n",
       "      <td>0.0</td>\n",
       "      <td>0.0</td>\n",
       "      <td>0.0</td>\n",
       "    </tr>\n",
       "  </tbody>\n",
       "</table>\n",
       "</div>"
      ],
      "text/plain": [
       "      city_code  animal_code  furniture_code\n",
       "6762        3.0          0.0             1.0\n",
       "5639        4.0          1.0             1.0\n",
       "2098        0.0          0.0             0.0"
      ]
     },
     "execution_count": 58,
     "metadata": {},
     "output_type": "execute_result"
    }
   ],
   "source": [
    "X_cat.head(3)"
   ]
  },
  {
   "cell_type": "code",
   "execution_count": null,
   "id": "e549f04d",
   "metadata": {},
   "outputs": [],
   "source": []
  },
  {
   "cell_type": "markdown",
   "id": "aa79e937",
   "metadata": {},
   "source": [
    "## Scale numerical features"
   ]
  },
  {
   "cell_type": "code",
   "execution_count": 59,
   "id": "a3340d18",
   "metadata": {},
   "outputs": [
    {
     "data": {
      "text/html": [
       "<style>#sk-container-id-1 {color: black;background-color: white;}#sk-container-id-1 pre{padding: 0;}#sk-container-id-1 div.sk-toggleable {background-color: white;}#sk-container-id-1 label.sk-toggleable__label {cursor: pointer;display: block;width: 100%;margin-bottom: 0;padding: 0.3em;box-sizing: border-box;text-align: center;}#sk-container-id-1 label.sk-toggleable__label-arrow:before {content: \"▸\";float: left;margin-right: 0.25em;color: #696969;}#sk-container-id-1 label.sk-toggleable__label-arrow:hover:before {color: black;}#sk-container-id-1 div.sk-estimator:hover label.sk-toggleable__label-arrow:before {color: black;}#sk-container-id-1 div.sk-toggleable__content {max-height: 0;max-width: 0;overflow: hidden;text-align: left;background-color: #f0f8ff;}#sk-container-id-1 div.sk-toggleable__content pre {margin: 0.2em;color: black;border-radius: 0.25em;background-color: #f0f8ff;}#sk-container-id-1 input.sk-toggleable__control:checked~div.sk-toggleable__content {max-height: 200px;max-width: 100%;overflow: auto;}#sk-container-id-1 input.sk-toggleable__control:checked~label.sk-toggleable__label-arrow:before {content: \"▾\";}#sk-container-id-1 div.sk-estimator input.sk-toggleable__control:checked~label.sk-toggleable__label {background-color: #d4ebff;}#sk-container-id-1 div.sk-label input.sk-toggleable__control:checked~label.sk-toggleable__label {background-color: #d4ebff;}#sk-container-id-1 input.sk-hidden--visually {border: 0;clip: rect(1px 1px 1px 1px);clip: rect(1px, 1px, 1px, 1px);height: 1px;margin: -1px;overflow: hidden;padding: 0;position: absolute;width: 1px;}#sk-container-id-1 div.sk-estimator {font-family: monospace;background-color: #f0f8ff;border: 1px dotted black;border-radius: 0.25em;box-sizing: border-box;margin-bottom: 0.5em;}#sk-container-id-1 div.sk-estimator:hover {background-color: #d4ebff;}#sk-container-id-1 div.sk-parallel-item::after {content: \"\";width: 100%;border-bottom: 1px solid gray;flex-grow: 1;}#sk-container-id-1 div.sk-label:hover label.sk-toggleable__label {background-color: #d4ebff;}#sk-container-id-1 div.sk-serial::before {content: \"\";position: absolute;border-left: 1px solid gray;box-sizing: border-box;top: 0;bottom: 0;left: 50%;z-index: 0;}#sk-container-id-1 div.sk-serial {display: flex;flex-direction: column;align-items: center;background-color: white;padding-right: 0.2em;padding-left: 0.2em;position: relative;}#sk-container-id-1 div.sk-item {position: relative;z-index: 1;}#sk-container-id-1 div.sk-parallel {display: flex;align-items: stretch;justify-content: center;background-color: white;position: relative;}#sk-container-id-1 div.sk-item::before, #sk-container-id-1 div.sk-parallel-item::before {content: \"\";position: absolute;border-left: 1px solid gray;box-sizing: border-box;top: 0;bottom: 0;left: 50%;z-index: -1;}#sk-container-id-1 div.sk-parallel-item {display: flex;flex-direction: column;z-index: 1;position: relative;background-color: white;}#sk-container-id-1 div.sk-parallel-item:first-child::after {align-self: flex-end;width: 50%;}#sk-container-id-1 div.sk-parallel-item:last-child::after {align-self: flex-start;width: 50%;}#sk-container-id-1 div.sk-parallel-item:only-child::after {width: 0;}#sk-container-id-1 div.sk-dashed-wrapped {border: 1px dashed gray;margin: 0 0.4em 0.5em 0.4em;box-sizing: border-box;padding-bottom: 0.4em;background-color: white;}#sk-container-id-1 div.sk-label label {font-family: monospace;font-weight: bold;display: inline-block;line-height: 1.2em;}#sk-container-id-1 div.sk-label-container {text-align: center;}#sk-container-id-1 div.sk-container {/* jupyter's `normalize.less` sets `[hidden] { display: none; }` but bootstrap.min.css set `[hidden] { display: none !important; }` so we also need the `!important` here to be able to override the default hidden behavior on the sphinx rendered scikit-learn.org. See: https://github.com/scikit-learn/scikit-learn/issues/21755 */display: inline-block !important;position: relative;}#sk-container-id-1 div.sk-text-repr-fallback {display: none;}</style><div id=\"sk-container-id-1\" class=\"sk-top-container\"><div class=\"sk-text-repr-fallback\"><pre>StandardScaler()</pre><b>In a Jupyter environment, please rerun this cell to show the HTML representation or trust the notebook. <br />On GitHub, the HTML representation is unable to render, please try loading this page with nbviewer.org.</b></div><div class=\"sk-container\" hidden><div class=\"sk-item\"><div class=\"sk-estimator sk-toggleable\"><input class=\"sk-toggleable__control sk-hidden--visually\" id=\"sk-estimator-id-1\" type=\"checkbox\" checked><label for=\"sk-estimator-id-1\" class=\"sk-toggleable__label sk-toggleable__label-arrow\">StandardScaler</label><div class=\"sk-toggleable__content\"><pre>StandardScaler()</pre></div></div></div></div></div>"
      ],
      "text/plain": [
       "StandardScaler()"
      ]
     },
     "execution_count": 59,
     "metadata": {},
     "output_type": "execute_result"
    }
   ],
   "source": [
    "from sklearn.preprocessing import StandardScaler\n",
    "scaler = StandardScaler()\n",
    "scaler.fit(X_num)"
   ]
  },
  {
   "cell_type": "code",
   "execution_count": 60,
   "id": "7f478f14",
   "metadata": {},
   "outputs": [
    {
     "data": {
      "text/plain": [
       "array([[ 0.08116384, -0.43407627, -0.8819481 , ..., -0.48107434,\n",
       "        -0.15375926, -0.13733749],\n",
       "       [-0.15515506, -0.43407627, -0.8819481 , ..., -0.48107434,\n",
       "        -0.65292059, -0.18372966],\n",
       "       [-0.11995863,  0.41940748, -0.16721415, ..., -0.30144571,\n",
       "        -0.40333992, -0.14323386],\n",
       "       ...,\n",
       "       [ 0.08116384, -0.43407627,  1.9769877 , ...,  0.85473533,\n",
       "         2.86200714,  0.72675831],\n",
       "       [-0.12666271, -0.43407627, -0.16721415, ..., -0.26437949,\n",
       "        -0.36174315, -0.0834358 ],\n",
       "       [ 0.08116384,  0.41940748, -0.16721415, ..., -0.23016452,\n",
       "        -0.38254154, -0.16709746]])"
      ]
     },
     "execution_count": 60,
     "metadata": {},
     "output_type": "execute_result"
    }
   ],
   "source": [
    "scaler.transform(X_num)"
   ]
  },
  {
   "cell_type": "code",
   "execution_count": 61,
   "id": "6805babb",
   "metadata": {},
   "outputs": [
    {
     "data": {
      "text/plain": [
       "(8553, 8)"
      ]
     },
     "execution_count": 61,
     "metadata": {},
     "output_type": "execute_result"
    }
   ],
   "source": [
    "pd.DataFrame(scaler.transform(X_num), columns=X_num.columns, index=X_num.index).shape"
   ]
  },
  {
   "cell_type": "code",
   "execution_count": 62,
   "id": "5fdece92",
   "metadata": {},
   "outputs": [
    {
     "data": {
      "text/plain": [
       "(8553, 3)"
      ]
     },
     "execution_count": 62,
     "metadata": {},
     "output_type": "execute_result"
    }
   ],
   "source": [
    "X_cat.shape"
   ]
  },
  {
   "cell_type": "code",
   "execution_count": 63,
   "id": "74c4cfbc",
   "metadata": {},
   "outputs": [],
   "source": [
    " X_prepared = pd.concat([pd.DataFrame(scaler.transform(X_num), columns=X_num.columns, index=X_num.index), \n",
    "                         X_cat], \n",
    "                        axis=1)"
   ]
  },
  {
   "cell_type": "code",
   "execution_count": 64,
   "id": "52cfc0bc",
   "metadata": {},
   "outputs": [
    {
     "data": {
      "text/html": [
       "<div>\n",
       "<style scoped>\n",
       "    .dataframe tbody tr th:only-of-type {\n",
       "        vertical-align: middle;\n",
       "    }\n",
       "\n",
       "    .dataframe tbody tr th {\n",
       "        vertical-align: top;\n",
       "    }\n",
       "\n",
       "    .dataframe thead th {\n",
       "        text-align: right;\n",
       "    }\n",
       "</style>\n",
       "<table border=\"1\" class=\"dataframe\">\n",
       "  <thead>\n",
       "    <tr style=\"text-align: right;\">\n",
       "      <th></th>\n",
       "      <th>area</th>\n",
       "      <th>rooms</th>\n",
       "      <th>bathroom</th>\n",
       "      <th>parking spaces</th>\n",
       "      <th>hoa (R$)</th>\n",
       "      <th>property tax (R$)</th>\n",
       "      <th>fire insurance (R$)</th>\n",
       "      <th>total (R$)</th>\n",
       "      <th>city_code</th>\n",
       "      <th>animal_code</th>\n",
       "      <th>furniture_code</th>\n",
       "    </tr>\n",
       "  </thead>\n",
       "  <tbody>\n",
       "    <tr>\n",
       "      <th>6762</th>\n",
       "      <td>0.081164</td>\n",
       "      <td>-0.434076</td>\n",
       "      <td>-0.881948</td>\n",
       "      <td>-1.013156</td>\n",
       "      <td>-0.070358</td>\n",
       "      <td>-0.481074</td>\n",
       "      <td>-0.153759</td>\n",
       "      <td>-0.137337</td>\n",
       "      <td>3.0</td>\n",
       "      <td>0.0</td>\n",
       "      <td>1.0</td>\n",
       "    </tr>\n",
       "    <tr>\n",
       "      <th>5639</th>\n",
       "      <td>-0.155155</td>\n",
       "      <td>-0.434076</td>\n",
       "      <td>-0.881948</td>\n",
       "      <td>-0.379989</td>\n",
       "      <td>-0.042232</td>\n",
       "      <td>-0.481074</td>\n",
       "      <td>-0.652921</td>\n",
       "      <td>-0.183730</td>\n",
       "      <td>4.0</td>\n",
       "      <td>1.0</td>\n",
       "      <td>1.0</td>\n",
       "    </tr>\n",
       "    <tr>\n",
       "      <th>2098</th>\n",
       "      <td>-0.119959</td>\n",
       "      <td>0.419407</td>\n",
       "      <td>-0.167214</td>\n",
       "      <td>0.253178</td>\n",
       "      <td>-0.054286</td>\n",
       "      <td>-0.301446</td>\n",
       "      <td>-0.403340</td>\n",
       "      <td>-0.143234</td>\n",
       "      <td>0.0</td>\n",
       "      <td>0.0</td>\n",
       "      <td>0.0</td>\n",
       "    </tr>\n",
       "    <tr>\n",
       "      <th>9092</th>\n",
       "      <td>-0.108226</td>\n",
       "      <td>-0.434076</td>\n",
       "      <td>0.547520</td>\n",
       "      <td>0.253178</td>\n",
       "      <td>-0.001477</td>\n",
       "      <td>0.220333</td>\n",
       "      <td>-0.153759</td>\n",
       "      <td>-0.012068</td>\n",
       "      <td>4.0</td>\n",
       "      <td>0.0</td>\n",
       "      <td>0.0</td>\n",
       "    </tr>\n",
       "    <tr>\n",
       "      <th>1954</th>\n",
       "      <td>-0.153479</td>\n",
       "      <td>-1.287560</td>\n",
       "      <td>-0.881948</td>\n",
       "      <td>-0.379989</td>\n",
       "      <td>-0.070358</td>\n",
       "      <td>-0.481074</td>\n",
       "      <td>-0.736114</td>\n",
       "      <td>-0.240135</td>\n",
       "      <td>4.0</td>\n",
       "      <td>1.0</td>\n",
       "      <td>1.0</td>\n",
       "    </tr>\n",
       "    <tr>\n",
       "      <th>...</th>\n",
       "      <td>...</td>\n",
       "      <td>...</td>\n",
       "      <td>...</td>\n",
       "      <td>...</td>\n",
       "      <td>...</td>\n",
       "      <td>...</td>\n",
       "      <td>...</td>\n",
       "      <td>...</td>\n",
       "      <td>...</td>\n",
       "      <td>...</td>\n",
       "      <td>...</td>\n",
       "    </tr>\n",
       "    <tr>\n",
       "      <th>6657</th>\n",
       "      <td>-0.161859</td>\n",
       "      <td>-0.434076</td>\n",
       "      <td>-0.881948</td>\n",
       "      <td>-0.379989</td>\n",
       "      <td>-0.056008</td>\n",
       "      <td>-0.362748</td>\n",
       "      <td>-0.652921</td>\n",
       "      <td>-0.203588</td>\n",
       "      <td>2.0</td>\n",
       "      <td>0.0</td>\n",
       "      <td>1.0</td>\n",
       "    </tr>\n",
       "    <tr>\n",
       "      <th>10433</th>\n",
       "      <td>-0.158507</td>\n",
       "      <td>-0.434076</td>\n",
       "      <td>-0.167214</td>\n",
       "      <td>-0.379989</td>\n",
       "      <td>-0.041658</td>\n",
       "      <td>-0.281487</td>\n",
       "      <td>-0.008171</td>\n",
       "      <td>-0.037377</td>\n",
       "      <td>4.0</td>\n",
       "      <td>0.0</td>\n",
       "      <td>1.0</td>\n",
       "    </tr>\n",
       "    <tr>\n",
       "      <th>9797</th>\n",
       "      <td>0.081164</td>\n",
       "      <td>-0.434076</td>\n",
       "      <td>1.976988</td>\n",
       "      <td>0.253178</td>\n",
       "      <td>0.070159</td>\n",
       "      <td>0.854735</td>\n",
       "      <td>2.862007</td>\n",
       "      <td>0.726758</td>\n",
       "      <td>4.0</td>\n",
       "      <td>1.0</td>\n",
       "      <td>0.0</td>\n",
       "    </tr>\n",
       "    <tr>\n",
       "      <th>1240</th>\n",
       "      <td>-0.126663</td>\n",
       "      <td>-0.434076</td>\n",
       "      <td>-0.167214</td>\n",
       "      <td>0.253178</td>\n",
       "      <td>-0.011407</td>\n",
       "      <td>-0.264379</td>\n",
       "      <td>-0.361743</td>\n",
       "      <td>-0.083436</td>\n",
       "      <td>1.0</td>\n",
       "      <td>0.0</td>\n",
       "      <td>0.0</td>\n",
       "    </tr>\n",
       "    <tr>\n",
       "      <th>3514</th>\n",
       "      <td>0.081164</td>\n",
       "      <td>0.419407</td>\n",
       "      <td>-0.167214</td>\n",
       "      <td>2.785846</td>\n",
       "      <td>-0.070358</td>\n",
       "      <td>-0.230165</td>\n",
       "      <td>-0.382542</td>\n",
       "      <td>-0.167097</td>\n",
       "      <td>4.0</td>\n",
       "      <td>0.0</td>\n",
       "      <td>1.0</td>\n",
       "    </tr>\n",
       "  </tbody>\n",
       "</table>\n",
       "<p>8553 rows × 11 columns</p>\n",
       "</div>"
      ],
      "text/plain": [
       "           area     rooms  bathroom  parking spaces  hoa (R$)  \\\n",
       "6762   0.081164 -0.434076 -0.881948       -1.013156 -0.070358   \n",
       "5639  -0.155155 -0.434076 -0.881948       -0.379989 -0.042232   \n",
       "2098  -0.119959  0.419407 -0.167214        0.253178 -0.054286   \n",
       "9092  -0.108226 -0.434076  0.547520        0.253178 -0.001477   \n",
       "1954  -0.153479 -1.287560 -0.881948       -0.379989 -0.070358   \n",
       "...         ...       ...       ...             ...       ...   \n",
       "6657  -0.161859 -0.434076 -0.881948       -0.379989 -0.056008   \n",
       "10433 -0.158507 -0.434076 -0.167214       -0.379989 -0.041658   \n",
       "9797   0.081164 -0.434076  1.976988        0.253178  0.070159   \n",
       "1240  -0.126663 -0.434076 -0.167214        0.253178 -0.011407   \n",
       "3514   0.081164  0.419407 -0.167214        2.785846 -0.070358   \n",
       "\n",
       "       property tax (R$)  fire insurance (R$)  total (R$)  city_code  \\\n",
       "6762           -0.481074            -0.153759   -0.137337        3.0   \n",
       "5639           -0.481074            -0.652921   -0.183730        4.0   \n",
       "2098           -0.301446            -0.403340   -0.143234        0.0   \n",
       "9092            0.220333            -0.153759   -0.012068        4.0   \n",
       "1954           -0.481074            -0.736114   -0.240135        4.0   \n",
       "...                  ...                  ...         ...        ...   \n",
       "6657           -0.362748            -0.652921   -0.203588        2.0   \n",
       "10433          -0.281487            -0.008171   -0.037377        4.0   \n",
       "9797            0.854735             2.862007    0.726758        4.0   \n",
       "1240           -0.264379            -0.361743   -0.083436        1.0   \n",
       "3514           -0.230165            -0.382542   -0.167097        4.0   \n",
       "\n",
       "       animal_code  furniture_code  \n",
       "6762           0.0             1.0  \n",
       "5639           1.0             1.0  \n",
       "2098           0.0             0.0  \n",
       "9092           0.0             0.0  \n",
       "1954           1.0             1.0  \n",
       "...            ...             ...  \n",
       "6657           0.0             1.0  \n",
       "10433          0.0             1.0  \n",
       "9797           1.0             0.0  \n",
       "1240           0.0             0.0  \n",
       "3514           0.0             1.0  \n",
       "\n",
       "[8553 rows x 11 columns]"
      ]
     },
     "execution_count": 64,
     "metadata": {},
     "output_type": "execute_result"
    }
   ],
   "source": [
    "X_prepared"
   ]
  },
  {
   "cell_type": "markdown",
   "id": "f7c52a2d",
   "metadata": {},
   "source": [
    "# Training models\n",
    "\n",
    "___"
   ]
  },
  {
   "cell_type": "code",
   "execution_count": 65,
   "id": "a39b9de1",
   "metadata": {},
   "outputs": [
    {
     "data": {
      "text/plain": [
       "(8553, 11)"
      ]
     },
     "execution_count": 65,
     "metadata": {},
     "output_type": "execute_result"
    }
   ],
   "source": [
    "X_prepared.shape"
   ]
  },
  {
   "cell_type": "code",
   "execution_count": 66,
   "id": "d92751dc",
   "metadata": {},
   "outputs": [
    {
     "data": {
      "text/plain": [
       "(8553,)"
      ]
     },
     "execution_count": 66,
     "metadata": {},
     "output_type": "execute_result"
    }
   ],
   "source": [
    "y.shape"
   ]
  },
  {
   "cell_type": "markdown",
   "id": "9a2a99fa",
   "metadata": {},
   "source": [
    "## Linear Regression, Decision Tree"
   ]
  },
  {
   "cell_type": "code",
   "execution_count": 67,
   "id": "a91c3827",
   "metadata": {},
   "outputs": [],
   "source": [
    "from sklearn.linear_model import LinearRegression\n",
    "from sklearn.tree import DecisionTreeRegressor\n",
    "from sklearn.ensemble import RandomForestRegressor\n",
    "\n",
    "model1 = LinearRegression()\n",
    "model2 = DecisionTreeRegressor(random_state=42)\n",
    "model3 = RandomForestRegressor(random_state=42)"
   ]
  },
  {
   "cell_type": "code",
   "execution_count": 68,
   "id": "4badea70",
   "metadata": {},
   "outputs": [],
   "source": [
    "#help(RandomForestRegressor)"
   ]
  },
  {
   "cell_type": "code",
   "execution_count": 69,
   "id": "d8a53e1e",
   "metadata": {},
   "outputs": [],
   "source": [
    "model1.fit(X_prepared, y)\n",
    "model2.fit(X_prepared, y)\n",
    "model3.fit(X_prepared, y);\n",
    "\n",
    "model_list = [model1, model2, model3]"
   ]
  },
  {
   "cell_type": "markdown",
   "id": "df3b25e0",
   "metadata": {},
   "source": [
    "# Predicting some values\n",
    "___"
   ]
  },
  {
   "cell_type": "code",
   "execution_count": 70,
   "id": "d37fa604",
   "metadata": {},
   "outputs": [],
   "source": [
    "# select n values of training set\n",
    "n = 7\n",
    "some_data = X_prepared[:n]\n",
    "some_labels = y[:n]"
   ]
  },
  {
   "cell_type": "code",
   "execution_count": 71,
   "id": "e0cca8de",
   "metadata": {},
   "outputs": [],
   "source": [
    "some_pred_df = some_labels.copy()\n",
    "\n",
    "for model in model_list:\n",
    "  some_pred = model.predict(some_data)\n",
    "  name_model = str(model).split('(')[0]\n",
    "  some_pred_df = pd.concat([pd.DataFrame(some_pred, columns=['pred_'+name_model],\n",
    "                                         index=some_labels.index),\n",
    "                            some_pred_df], axis=1)"
   ]
  },
  {
   "cell_type": "code",
   "execution_count": 72,
   "id": "c54017d1",
   "metadata": {},
   "outputs": [
    {
     "data": {
      "text/html": [
       "<div>\n",
       "<style scoped>\n",
       "    .dataframe tbody tr th:only-of-type {\n",
       "        vertical-align: middle;\n",
       "    }\n",
       "\n",
       "    .dataframe tbody tr th {\n",
       "        vertical-align: top;\n",
       "    }\n",
       "\n",
       "    .dataframe thead th {\n",
       "        text-align: right;\n",
       "    }\n",
       "</style>\n",
       "<table border=\"1\" class=\"dataframe\">\n",
       "  <thead>\n",
       "    <tr style=\"text-align: right;\">\n",
       "      <th></th>\n",
       "      <th>pred_RandomForestRegressor</th>\n",
       "      <th>pred_DecisionTreeRegressor</th>\n",
       "      <th>pred_LinearRegression</th>\n",
       "      <th>rent amount (R$)</th>\n",
       "    </tr>\n",
       "  </thead>\n",
       "  <tbody>\n",
       "    <tr>\n",
       "      <th>6762</th>\n",
       "      <td>2985.00</td>\n",
       "      <td>3000.0</td>\n",
       "      <td>2999.848291</td>\n",
       "      <td>3000</td>\n",
       "    </tr>\n",
       "    <tr>\n",
       "      <th>5639</th>\n",
       "      <td>1697.55</td>\n",
       "      <td>1700.0</td>\n",
       "      <td>1699.960661</td>\n",
       "      <td>1700</td>\n",
       "    </tr>\n",
       "    <tr>\n",
       "      <th>2098</th>\n",
       "      <td>2487.25</td>\n",
       "      <td>2500.0</td>\n",
       "      <td>2500.072684</td>\n",
       "      <td>2500</td>\n",
       "    </tr>\n",
       "    <tr>\n",
       "      <th>9092</th>\n",
       "      <td>3563.16</td>\n",
       "      <td>3560.0</td>\n",
       "      <td>3559.856880</td>\n",
       "      <td>3560</td>\n",
       "    </tr>\n",
       "    <tr>\n",
       "      <th>1954</th>\n",
       "      <td>1159.77</td>\n",
       "      <td>1180.0</td>\n",
       "      <td>1179.973338</td>\n",
       "      <td>1180</td>\n",
       "    </tr>\n",
       "    <tr>\n",
       "      <th>9463</th>\n",
       "      <td>687.62</td>\n",
       "      <td>700.0</td>\n",
       "      <td>699.840740</td>\n",
       "      <td>700</td>\n",
       "    </tr>\n",
       "    <tr>\n",
       "      <th>3359</th>\n",
       "      <td>4197.90</td>\n",
       "      <td>4200.0</td>\n",
       "      <td>4199.555996</td>\n",
       "      <td>4200</td>\n",
       "    </tr>\n",
       "  </tbody>\n",
       "</table>\n",
       "</div>"
      ],
      "text/plain": [
       "      pred_RandomForestRegressor  pred_DecisionTreeRegressor  \\\n",
       "6762                     2985.00                      3000.0   \n",
       "5639                     1697.55                      1700.0   \n",
       "2098                     2487.25                      2500.0   \n",
       "9092                     3563.16                      3560.0   \n",
       "1954                     1159.77                      1180.0   \n",
       "9463                      687.62                       700.0   \n",
       "3359                     4197.90                      4200.0   \n",
       "\n",
       "      pred_LinearRegression  rent amount (R$)  \n",
       "6762            2999.848291              3000  \n",
       "5639            1699.960661              1700  \n",
       "2098            2500.072684              2500  \n",
       "9092            3559.856880              3560  \n",
       "1954            1179.973338              1180  \n",
       "9463             699.840740               700  \n",
       "3359            4199.555996              4200  "
      ]
     },
     "execution_count": 72,
     "metadata": {},
     "output_type": "execute_result"
    }
   ],
   "source": [
    "some_pred_df"
   ]
  },
  {
   "cell_type": "markdown",
   "id": "e15c31c4",
   "metadata": {},
   "source": [
    "# Measure prediction error\n",
    "___"
   ]
  },
  {
   "cell_type": "markdown",
   "id": "2c3de1d9",
   "metadata": {},
   "source": [
    "## Prepare test set"
   ]
  },
  {
   "cell_type": "code",
   "execution_count": 73,
   "id": "2487eb48",
   "metadata": {},
   "outputs": [
    {
     "name": "stdout",
     "output_type": "stream",
     "text": [
      "1:  (2139, 11)\n",
      "length attr_enconded =  2139\n",
      "pd.DataFrame(...).shape =  (2139, 1)\n",
      "2:  (2139, 12)\n",
      ">> Attribute \"city\" with values \"['Rio de Janeiro', 'São Paulo', 'Belo Horizonte', 'Campinas', 'Porto Alegre']\" were encoded as \"[3.0, 0.0, 4.0, 1.0, 2.0]\".\n",
      "\n",
      "3:  (2139, 11)\n",
      "length attr_enconded =  2139\n",
      "pd.DataFrame(...).shape =  (2139, 1)\n",
      "2:  (2139, 12)\n",
      ">> Attribute \"animal\" with values \"['acept', 'not acept']\" were encoded as \"[1.0, 0.0]\".\n",
      "\n",
      "3:  (2139, 11)\n",
      "length attr_enconded =  2139\n",
      "pd.DataFrame(...).shape =  (2139, 1)\n",
      "2:  (2139, 12)\n",
      ">> Attribute \"furniture\" with values \"['not furnished', 'furnished']\" were encoded as \"[0.0, 1.0]\".\n",
      "\n",
      "3:  (2139, 11)\n"
     ]
    }
   ],
   "source": [
    "X_test_num, X_test_cat = encode_features(X_test.copy())"
   ]
  },
  {
   "cell_type": "code",
   "execution_count": 74,
   "id": "75c9fdcc",
   "metadata": {},
   "outputs": [],
   "source": [
    "X_test_prepared = pd.concat([pd.DataFrame(scaler.transform(X_test_num), columns=X_test_num.columns, \n",
    "                                          index=X_test_num.index), X_test_cat], axis=1)"
   ]
  },
  {
   "cell_type": "markdown",
   "id": "dbf2aecf",
   "metadata": {},
   "source": [
    "## Compute errors"
   ]
  },
  {
   "cell_type": "code",
   "execution_count": 75,
   "id": "bb4d81da",
   "metadata": {},
   "outputs": [
    {
     "data": {
      "text/plain": [
       "6.579409170219907"
      ]
     },
     "execution_count": 75,
     "metadata": {},
     "output_type": "execute_result"
    }
   ],
   "source": [
    "rent_pred_model1 = model1.predict(X_prepared) # prediction over training set\n",
    "model1_rmse = np.sqrt(mean_squared_error(y, rent_pred_model1))\n",
    "model1_rmse"
   ]
  },
  {
   "cell_type": "code",
   "execution_count": 76,
   "id": "7b5c3c84",
   "metadata": {},
   "outputs": [
    {
     "data": {
      "text/plain": [
       "3.703179993250839"
      ]
     },
     "execution_count": 76,
     "metadata": {},
     "output_type": "execute_result"
    }
   ],
   "source": [
    "rent_pred_test_model1 = model1.predict(X_test_prepared) # prediction over training set\n",
    "model1_rmse_test = np.sqrt(mean_squared_error(y_test, rent_pred_test_model1))\n",
    "model1_rmse_test"
   ]
  },
  {
   "cell_type": "code",
   "execution_count": 77,
   "id": "00dfd29a",
   "metadata": {},
   "outputs": [
    {
     "data": {
      "text/plain": [
       "0.6344361627995629"
      ]
     },
     "execution_count": 77,
     "metadata": {},
     "output_type": "execute_result"
    }
   ],
   "source": [
    "model1_mae = mean_absolute_error(y, rent_pred_model1)\n",
    "model1_mae"
   ]
  },
  {
   "cell_type": "code",
   "execution_count": null,
   "id": "4550ee4f",
   "metadata": {},
   "outputs": [],
   "source": []
  },
  {
   "cell_type": "code",
   "execution_count": 78,
   "id": "14d58586",
   "metadata": {},
   "outputs": [],
   "source": [
    "def compute_errors(model_list=model_list, X_set=X_prepared.copy(), y_label=y.copy(), label='training set'):\n",
    "  \n",
    "  print('Errors for the {}:'.format(label))\n",
    "  \n",
    "  table_dict = {'Model': [], 'RMSE': [], 'MAE': []}\n",
    "  table_pred = pd.DataFrame(data=table_dict)  \n",
    "  \n",
    "  for model in model_list:\n",
    "    name_model = str(model).split('(')[0]    \n",
    "    y_pred = model.predict(X_set)\n",
    "    model_rmse = np.sqrt(mean_squared_error(y_label, y_pred))\n",
    "    model_mae = mean_absolute_error(y_label, y_pred)\n",
    "    dict_errors = {'Model': [name_model], 'RMSE': [model_rmse], 'MAE': [model_mae]}  \n",
    "    row_errors = pd.DataFrame(data=dict_errors)\n",
    "    table_pred = pd.concat([table_pred, row_errors], axis=0)      \n",
    "\n",
    "  table_pred.reset_index(inplace=True, drop=True)\n",
    "\n",
    "  return table_pred"
   ]
  },
  {
   "cell_type": "code",
   "execution_count": 79,
   "id": "704a992e",
   "metadata": {},
   "outputs": [
    {
     "name": "stdout",
     "output_type": "stream",
     "text": [
      "Errors for the training set:\n"
     ]
    },
    {
     "data": {
      "text/html": [
       "<div>\n",
       "<style scoped>\n",
       "    .dataframe tbody tr th:only-of-type {\n",
       "        vertical-align: middle;\n",
       "    }\n",
       "\n",
       "    .dataframe tbody tr th {\n",
       "        vertical-align: top;\n",
       "    }\n",
       "\n",
       "    .dataframe thead th {\n",
       "        text-align: right;\n",
       "    }\n",
       "</style>\n",
       "<table border=\"1\" class=\"dataframe\">\n",
       "  <thead>\n",
       "    <tr style=\"text-align: right;\">\n",
       "      <th></th>\n",
       "      <th>Model</th>\n",
       "      <th>RMSE</th>\n",
       "      <th>MAE</th>\n",
       "    </tr>\n",
       "  </thead>\n",
       "  <tbody>\n",
       "    <tr>\n",
       "      <th>0</th>\n",
       "      <td>LinearRegression</td>\n",
       "      <td>6.579409</td>\n",
       "      <td>0.634436</td>\n",
       "    </tr>\n",
       "    <tr>\n",
       "      <th>1</th>\n",
       "      <td>DecisionTreeRegressor</td>\n",
       "      <td>0.000000</td>\n",
       "      <td>0.000000</td>\n",
       "    </tr>\n",
       "    <tr>\n",
       "      <th>2</th>\n",
       "      <td>RandomForestRegressor</td>\n",
       "      <td>124.665667</td>\n",
       "      <td>24.839358</td>\n",
       "    </tr>\n",
       "  </tbody>\n",
       "</table>\n",
       "</div>"
      ],
      "text/plain": [
       "                   Model        RMSE        MAE\n",
       "0       LinearRegression    6.579409   0.634436\n",
       "1  DecisionTreeRegressor    0.000000   0.000000\n",
       "2  RandomForestRegressor  124.665667  24.839358"
      ]
     },
     "execution_count": 79,
     "metadata": {},
     "output_type": "execute_result"
    }
   ],
   "source": [
    "# compute training errors\n",
    "compute_errors()"
   ]
  },
  {
   "cell_type": "code",
   "execution_count": 80,
   "id": "b45d7252",
   "metadata": {},
   "outputs": [
    {
     "name": "stdout",
     "output_type": "stream",
     "text": [
      "Errors for the test set:\n"
     ]
    },
    {
     "data": {
      "text/html": [
       "<div>\n",
       "<style scoped>\n",
       "    .dataframe tbody tr th:only-of-type {\n",
       "        vertical-align: middle;\n",
       "    }\n",
       "\n",
       "    .dataframe tbody tr th {\n",
       "        vertical-align: top;\n",
       "    }\n",
       "\n",
       "    .dataframe thead th {\n",
       "        text-align: right;\n",
       "    }\n",
       "</style>\n",
       "<table border=\"1\" class=\"dataframe\">\n",
       "  <thead>\n",
       "    <tr style=\"text-align: right;\">\n",
       "      <th></th>\n",
       "      <th>Model</th>\n",
       "      <th>RMSE</th>\n",
       "      <th>MAE</th>\n",
       "    </tr>\n",
       "  </thead>\n",
       "  <tbody>\n",
       "    <tr>\n",
       "      <th>0</th>\n",
       "      <td>LinearRegression</td>\n",
       "      <td>3.703180</td>\n",
       "      <td>0.610181</td>\n",
       "    </tr>\n",
       "    <tr>\n",
       "      <th>1</th>\n",
       "      <td>DecisionTreeRegressor</td>\n",
       "      <td>334.681681</td>\n",
       "      <td>69.629266</td>\n",
       "    </tr>\n",
       "    <tr>\n",
       "      <th>2</th>\n",
       "      <td>RandomForestRegressor</td>\n",
       "      <td>213.055941</td>\n",
       "      <td>61.438167</td>\n",
       "    </tr>\n",
       "  </tbody>\n",
       "</table>\n",
       "</div>"
      ],
      "text/plain": [
       "                   Model        RMSE        MAE\n",
       "0       LinearRegression    3.703180   0.610181\n",
       "1  DecisionTreeRegressor  334.681681  69.629266\n",
       "2  RandomForestRegressor  213.055941  61.438167"
      ]
     },
     "execution_count": 80,
     "metadata": {},
     "output_type": "execute_result"
    }
   ],
   "source": [
    "# compute test errors\n",
    "compute_errors(X_set=X_test_prepared.copy(), y_label=y_test.copy(), label='test set')"
   ]
  },
  {
   "cell_type": "code",
   "execution_count": null,
   "id": "09f4f975",
   "metadata": {},
   "outputs": [],
   "source": []
  },
  {
   "cell_type": "markdown",
   "id": "5726c32c",
   "metadata": {},
   "source": [
    "# Tuning the models\n",
    "___"
   ]
  },
  {
   "cell_type": "markdown",
   "id": "e69c7e65",
   "metadata": {},
   "source": [
    "## Cross-validation"
   ]
  },
  {
   "cell_type": "code",
   "execution_count": 81,
   "id": "ffeea087",
   "metadata": {},
   "outputs": [],
   "source": [
    "def compute_cv_errors(model_list=model_list, X_set=X_prepared.copy(), y_label=y.copy(), label='training set', cv=10):\n",
    "  \n",
    "  print('\\nComputing cross-validation errors for the {} ...'.format(label))  \n",
    "  \n",
    "  for model in model_list:\n",
    "    name_model = str(model).split('(')[0]\n",
    "    print('\\n>> Model: ', name_model)    \n",
    "    y_pred = model.predict(X_set)\n",
    "    model_scores = cross_val_score(model, X_set, y_label, cv=cv, scoring='neg_mean_squared_error')\n",
    "    model_rmse_scores = np.sqrt(-model_scores)\n",
    "    print('\\n>  {} scores:\\n {}'.format(cv, model_scores.tolist()))\n",
    "    print('\\n>  stats: \\n', pd.DataFrame(model_rmse_scores, columns=[name_model]).describe())\n",
    "\n",
    "  return False"
   ]
  },
  {
   "cell_type": "code",
   "execution_count": 82,
   "id": "9c016929",
   "metadata": {},
   "outputs": [
    {
     "name": "stdout",
     "output_type": "stream",
     "text": [
      "\n",
      "Computing cross-validation errors for the training set ...\n",
      "\n",
      ">> Model:  LinearRegression\n",
      "\n",
      ">  10 scores:\n",
      " [-1.2242685555500339, -1.266261660302565, -147.74996237713793, -1.406235359686008, -1.493086516890124, -106.35658037267955, -2.0937869677564453, -168.96604191221383, -1.9347013368616328, -1.123640573727639]\n",
      "\n",
      ">  stats: \n",
      "        LinearRegression\n",
      "count         10.000000\n",
      "mean           4.400433\n",
      "std            5.163724\n",
      "min            1.060019\n",
      "25%            1.140424\n",
      "50%            1.306427\n",
      "75%            8.096448\n",
      "max           12.998694\n",
      "\n",
      ">> Model:  DecisionTreeRegressor\n",
      "\n",
      ">  10 scores:\n",
      " [-109627.3796728972, -63713.667056074766, -54087.15303738318, -159500.4643274854, -547319.2397660819, -118783.29356725146, -205973.56023391814, -74048.13333333333, -91215.86666666667, -32841.23625730994]\n",
      "\n",
      ">  stats: \n",
      "        DecisionTreeRegressor\n",
      "count              10.000000\n",
      "mean              350.911938\n",
      "std               158.366000\n",
      "min               181.221512\n",
      "25%               257.341214\n",
      "50%               316.559951\n",
      "75%               385.693700\n",
      "max               739.810273\n",
      "\n",
      ">> Model:  RandomForestRegressor\n",
      "\n",
      ">  10 scores:\n",
      " [-67980.38477254672, -34399.12217675234, -32267.64147803738, -68879.1746922807, -572929.9890729823, -85177.78326596493, -143461.01783345029, -43772.237872397665, -91034.56668187134, -25124.892325146193]\n",
      "\n",
      ">  stats: \n",
      "        RandomForestRegressor\n",
      "count              10.000000\n",
      "mean              298.526292\n",
      "std               174.434751\n",
      "min               158.508335\n",
      "25%               191.407042\n",
      "50%               261.589453\n",
      "75%               299.252596\n",
      "max               756.921389\n"
     ]
    },
    {
     "data": {
      "text/plain": [
       "False"
      ]
     },
     "execution_count": 82,
     "metadata": {},
     "output_type": "execute_result"
    }
   ],
   "source": [
    "compute_cv_errors()"
   ]
  },
  {
   "cell_type": "code",
   "execution_count": null,
   "id": "a2b5d75e",
   "metadata": {},
   "outputs": [],
   "source": []
  },
  {
   "cell_type": "markdown",
   "id": "def8cd18",
   "metadata": {},
   "source": [
    "**Note:** There are difference between values of np.std() and pd.std(). More details in:\n",
    "\n",
    "- https://stackoverflow.com/questions/24984178/different-std-in-pandas-vs-numpy\n",
    "\n",
    "- https://www.youtube.com/watch?v=Cn0skMJ2F3c\n",
    "\n",
    "See below an example."
   ]
  },
  {
   "cell_type": "code",
   "execution_count": 83,
   "id": "b0c4cd31",
   "metadata": {},
   "outputs": [
    {
     "data": {
      "text/plain": [
       "array([  1.12345678,   1.11345678, 257.12345678,   1.22345678,\n",
       "         1.33123456, 107.12345678,   2.12345678, 167.12345678,\n",
       "         1.44123456,   1.55123456])"
      ]
     },
     "execution_count": 83,
     "metadata": {},
     "output_type": "execute_result"
    }
   ],
   "source": [
    "x1 = np.array([  1.12345678,   1.11345678, 257.12345678, 1.22345678,\n",
    "         1.33123456, 107.12345678, 2.12345678, 167.12345678,\n",
    "         1.44123456,   1.55123456])\n",
    "x1"
   ]
  },
  {
   "cell_type": "code",
   "execution_count": 84,
   "id": "3a8910f5",
   "metadata": {},
   "outputs": [],
   "source": [
    "def calc_describe(x):\n",
    "  print(\"count: \", len(x))\n",
    "  print(\"mean: \", np.mean(x))\n",
    "  print(\"std: \", np.std(x))\n",
    "  print(\"min: \", np.min(x))\n",
    "  print(\"25%:\", np.percentile(x1, 25))\n",
    "  print(\"50%:\", np.percentile(x1, 50))\n",
    "  print(\"75%:\", np.percentile(x1, 75))  \n",
    "  print(\"max = \", np.max(x))"
   ]
  },
  {
   "cell_type": "code",
   "execution_count": 85,
   "id": "36b50afa",
   "metadata": {},
   "outputs": [
    {
     "name": "stdout",
     "output_type": "stream",
     "text": [
      "count:  10\n",
      "mean:  54.12779011400001\n",
      "std:  87.31250982896698\n",
      "min:  1.11345678\n",
      "25%: 1.250401225\n",
      "50%: 1.49623456\n",
      "75%: 80.87345678000001\n",
      "max =  257.12345678\n"
     ]
    }
   ],
   "source": [
    "calc_describe(x1)"
   ]
  },
  {
   "cell_type": "code",
   "execution_count": 86,
   "id": "0bb9f837",
   "metadata": {},
   "outputs": [
    {
     "data": {
      "text/html": [
       "<div>\n",
       "<style scoped>\n",
       "    .dataframe tbody tr th:only-of-type {\n",
       "        vertical-align: middle;\n",
       "    }\n",
       "\n",
       "    .dataframe tbody tr th {\n",
       "        vertical-align: top;\n",
       "    }\n",
       "\n",
       "    .dataframe thead th {\n",
       "        text-align: right;\n",
       "    }\n",
       "</style>\n",
       "<table border=\"1\" class=\"dataframe\">\n",
       "  <thead>\n",
       "    <tr style=\"text-align: right;\">\n",
       "      <th></th>\n",
       "      <th>0</th>\n",
       "    </tr>\n",
       "  </thead>\n",
       "  <tbody>\n",
       "    <tr>\n",
       "      <th>count</th>\n",
       "      <td>10.000000</td>\n",
       "    </tr>\n",
       "    <tr>\n",
       "      <th>mean</th>\n",
       "      <td>54.127790</td>\n",
       "    </tr>\n",
       "    <tr>\n",
       "      <th>std</th>\n",
       "      <td>92.035466</td>\n",
       "    </tr>\n",
       "    <tr>\n",
       "      <th>min</th>\n",
       "      <td>1.113457</td>\n",
       "    </tr>\n",
       "    <tr>\n",
       "      <th>25%</th>\n",
       "      <td>1.250401</td>\n",
       "    </tr>\n",
       "    <tr>\n",
       "      <th>50%</th>\n",
       "      <td>1.496235</td>\n",
       "    </tr>\n",
       "    <tr>\n",
       "      <th>75%</th>\n",
       "      <td>80.873457</td>\n",
       "    </tr>\n",
       "    <tr>\n",
       "      <th>max</th>\n",
       "      <td>257.123457</td>\n",
       "    </tr>\n",
       "  </tbody>\n",
       "</table>\n",
       "</div>"
      ],
      "text/plain": [
       "                0\n",
       "count   10.000000\n",
       "mean    54.127790\n",
       "std     92.035466\n",
       "min      1.113457\n",
       "25%      1.250401\n",
       "50%      1.496235\n",
       "75%     80.873457\n",
       "max    257.123457"
      ]
     },
     "execution_count": 86,
     "metadata": {},
     "output_type": "execute_result"
    }
   ],
   "source": [
    "pd.DataFrame(x1).describe()"
   ]
  },
  {
   "cell_type": "markdown",
   "id": "cb59ca67",
   "metadata": {},
   "source": [
    "___"
   ]
  },
  {
   "cell_type": "markdown",
   "id": "a2afafd1",
   "metadata": {},
   "source": [
    "## Cross-Validated Grid-Search"
   ]
  },
  {
   "cell_type": "markdown",
   "id": "5b4e66de",
   "metadata": {},
   "source": [
    "Command:\n",
    "```bash\n",
    ">> from sklearn.model_selection import GridSearchCV\n",
    "```\n",
    "\n",
    "From your help:\n",
    "\n",
    " _`GridSearchCV` implements a \"fit\" and a \"score\" method. It also implements \"score_samples\", \"predict\", \"predict_proba\", \"decision_function\", \"transform\" and \"inverse_transform\" if they are implemented in the estimator used. The parameters of the estimator used to apply these methods are optimized by cross-validated grid-search over a parameter grid._"
   ]
  },
  {
   "cell_type": "code",
   "execution_count": 87,
   "id": "1494d579",
   "metadata": {},
   "outputs": [
    {
     "data": {
      "text/plain": [
       "[LinearRegression(),\n",
       " DecisionTreeRegressor(random_state=42),\n",
       " RandomForestRegressor(random_state=42)]"
      ]
     },
     "execution_count": 87,
     "metadata": {},
     "output_type": "execute_result"
    }
   ],
   "source": [
    "model_list"
   ]
  },
  {
   "cell_type": "markdown",
   "id": "81761458",
   "metadata": {},
   "source": [
    "## Tuning Random Forest model"
   ]
  },
  {
   "cell_type": "code",
   "execution_count": 88,
   "id": "c773542b",
   "metadata": {},
   "outputs": [],
   "source": [
    "#help(model_list[2])"
   ]
  },
  {
   "cell_type": "code",
   "execution_count": 89,
   "id": "8326453b",
   "metadata": {},
   "outputs": [
    {
     "name": "stdout",
     "output_type": "stream",
     "text": [
      "CPU times: user 11 µs, sys: 4 µs, total: 15 µs\n",
      "Wall time: 27.9 µs\n"
     ]
    },
    {
     "data": {
      "text/html": [
       "<style>#sk-container-id-2 {color: black;background-color: white;}#sk-container-id-2 pre{padding: 0;}#sk-container-id-2 div.sk-toggleable {background-color: white;}#sk-container-id-2 label.sk-toggleable__label {cursor: pointer;display: block;width: 100%;margin-bottom: 0;padding: 0.3em;box-sizing: border-box;text-align: center;}#sk-container-id-2 label.sk-toggleable__label-arrow:before {content: \"▸\";float: left;margin-right: 0.25em;color: #696969;}#sk-container-id-2 label.sk-toggleable__label-arrow:hover:before {color: black;}#sk-container-id-2 div.sk-estimator:hover label.sk-toggleable__label-arrow:before {color: black;}#sk-container-id-2 div.sk-toggleable__content {max-height: 0;max-width: 0;overflow: hidden;text-align: left;background-color: #f0f8ff;}#sk-container-id-2 div.sk-toggleable__content pre {margin: 0.2em;color: black;border-radius: 0.25em;background-color: #f0f8ff;}#sk-container-id-2 input.sk-toggleable__control:checked~div.sk-toggleable__content {max-height: 200px;max-width: 100%;overflow: auto;}#sk-container-id-2 input.sk-toggleable__control:checked~label.sk-toggleable__label-arrow:before {content: \"▾\";}#sk-container-id-2 div.sk-estimator input.sk-toggleable__control:checked~label.sk-toggleable__label {background-color: #d4ebff;}#sk-container-id-2 div.sk-label input.sk-toggleable__control:checked~label.sk-toggleable__label {background-color: #d4ebff;}#sk-container-id-2 input.sk-hidden--visually {border: 0;clip: rect(1px 1px 1px 1px);clip: rect(1px, 1px, 1px, 1px);height: 1px;margin: -1px;overflow: hidden;padding: 0;position: absolute;width: 1px;}#sk-container-id-2 div.sk-estimator {font-family: monospace;background-color: #f0f8ff;border: 1px dotted black;border-radius: 0.25em;box-sizing: border-box;margin-bottom: 0.5em;}#sk-container-id-2 div.sk-estimator:hover {background-color: #d4ebff;}#sk-container-id-2 div.sk-parallel-item::after {content: \"\";width: 100%;border-bottom: 1px solid gray;flex-grow: 1;}#sk-container-id-2 div.sk-label:hover label.sk-toggleable__label {background-color: #d4ebff;}#sk-container-id-2 div.sk-serial::before {content: \"\";position: absolute;border-left: 1px solid gray;box-sizing: border-box;top: 0;bottom: 0;left: 50%;z-index: 0;}#sk-container-id-2 div.sk-serial {display: flex;flex-direction: column;align-items: center;background-color: white;padding-right: 0.2em;padding-left: 0.2em;position: relative;}#sk-container-id-2 div.sk-item {position: relative;z-index: 1;}#sk-container-id-2 div.sk-parallel {display: flex;align-items: stretch;justify-content: center;background-color: white;position: relative;}#sk-container-id-2 div.sk-item::before, #sk-container-id-2 div.sk-parallel-item::before {content: \"\";position: absolute;border-left: 1px solid gray;box-sizing: border-box;top: 0;bottom: 0;left: 50%;z-index: -1;}#sk-container-id-2 div.sk-parallel-item {display: flex;flex-direction: column;z-index: 1;position: relative;background-color: white;}#sk-container-id-2 div.sk-parallel-item:first-child::after {align-self: flex-end;width: 50%;}#sk-container-id-2 div.sk-parallel-item:last-child::after {align-self: flex-start;width: 50%;}#sk-container-id-2 div.sk-parallel-item:only-child::after {width: 0;}#sk-container-id-2 div.sk-dashed-wrapped {border: 1px dashed gray;margin: 0 0.4em 0.5em 0.4em;box-sizing: border-box;padding-bottom: 0.4em;background-color: white;}#sk-container-id-2 div.sk-label label {font-family: monospace;font-weight: bold;display: inline-block;line-height: 1.2em;}#sk-container-id-2 div.sk-label-container {text-align: center;}#sk-container-id-2 div.sk-container {/* jupyter's `normalize.less` sets `[hidden] { display: none; }` but bootstrap.min.css set `[hidden] { display: none !important; }` so we also need the `!important` here to be able to override the default hidden behavior on the sphinx rendered scikit-learn.org. See: https://github.com/scikit-learn/scikit-learn/issues/21755 */display: inline-block !important;position: relative;}#sk-container-id-2 div.sk-text-repr-fallback {display: none;}</style><div id=\"sk-container-id-2\" class=\"sk-top-container\"><div class=\"sk-text-repr-fallback\"><pre>GridSearchCV(cv=10, estimator=RandomForestRegressor(random_state=42), n_jobs=-1,\n",
       "             param_grid=[{&#x27;max_features&#x27;: [2, 4, 6, 8, 10],\n",
       "                          &#x27;n_estimators&#x27;: [2, 10, 50, 100, 150, 200]},\n",
       "                         {&#x27;bootstrap&#x27;: [False], &#x27;max_features&#x27;: [2, 3, 4, 5],\n",
       "                          &#x27;n_estimators&#x27;: [5, 50, 100]}],\n",
       "             return_train_score=True, scoring=&#x27;neg_mean_squared_error&#x27;)</pre><b>In a Jupyter environment, please rerun this cell to show the HTML representation or trust the notebook. <br />On GitHub, the HTML representation is unable to render, please try loading this page with nbviewer.org.</b></div><div class=\"sk-container\" hidden><div class=\"sk-item sk-dashed-wrapped\"><div class=\"sk-label-container\"><div class=\"sk-label sk-toggleable\"><input class=\"sk-toggleable__control sk-hidden--visually\" id=\"sk-estimator-id-2\" type=\"checkbox\" ><label for=\"sk-estimator-id-2\" class=\"sk-toggleable__label sk-toggleable__label-arrow\">GridSearchCV</label><div class=\"sk-toggleable__content\"><pre>GridSearchCV(cv=10, estimator=RandomForestRegressor(random_state=42), n_jobs=-1,\n",
       "             param_grid=[{&#x27;max_features&#x27;: [2, 4, 6, 8, 10],\n",
       "                          &#x27;n_estimators&#x27;: [2, 10, 50, 100, 150, 200]},\n",
       "                         {&#x27;bootstrap&#x27;: [False], &#x27;max_features&#x27;: [2, 3, 4, 5],\n",
       "                          &#x27;n_estimators&#x27;: [5, 50, 100]}],\n",
       "             return_train_score=True, scoring=&#x27;neg_mean_squared_error&#x27;)</pre></div></div></div><div class=\"sk-parallel\"><div class=\"sk-parallel-item\"><div class=\"sk-item\"><div class=\"sk-label-container\"><div class=\"sk-label sk-toggleable\"><input class=\"sk-toggleable__control sk-hidden--visually\" id=\"sk-estimator-id-3\" type=\"checkbox\" ><label for=\"sk-estimator-id-3\" class=\"sk-toggleable__label sk-toggleable__label-arrow\">estimator: RandomForestRegressor</label><div class=\"sk-toggleable__content\"><pre>RandomForestRegressor(random_state=42)</pre></div></div></div><div class=\"sk-serial\"><div class=\"sk-item\"><div class=\"sk-estimator sk-toggleable\"><input class=\"sk-toggleable__control sk-hidden--visually\" id=\"sk-estimator-id-4\" type=\"checkbox\" ><label for=\"sk-estimator-id-4\" class=\"sk-toggleable__label sk-toggleable__label-arrow\">RandomForestRegressor</label><div class=\"sk-toggleable__content\"><pre>RandomForestRegressor(random_state=42)</pre></div></div></div></div></div></div></div></div></div></div>"
      ],
      "text/plain": [
       "GridSearchCV(cv=10, estimator=RandomForestRegressor(random_state=42), n_jobs=-1,\n",
       "             param_grid=[{'max_features': [2, 4, 6, 8, 10],\n",
       "                          'n_estimators': [2, 10, 50, 100, 150, 200]},\n",
       "                         {'bootstrap': [False], 'max_features': [2, 3, 4, 5],\n",
       "                          'n_estimators': [5, 50, 100]}],\n",
       "             return_train_score=True, scoring='neg_mean_squared_error')"
      ]
     },
     "execution_count": 89,
     "metadata": {},
     "output_type": "execute_result"
    }
   ],
   "source": [
    "%time\n",
    "\n",
    "param_grid = [\n",
    "  # 1st combination: 6x5 = 30 hyperparameters\n",
    "  {'n_estimators': [2, 10, 50, 100, 150, 200], 'max_features': [2, 4, 6, 8, 10]},\n",
    "  # 2nd combination: 1x3x4 = 12 hyperparameters\n",
    "  {'bootstrap': [False], 'n_estimators': [5, 50, 100], 'max_features': [2, 3, 4, 5]},\n",
    "]\n",
    "\n",
    "# train over 10 folds: 10*(30+12) = 420 configurations\n",
    "grid_search = GridSearchCV(estimator=model_list[2], param_grid=param_grid,\n",
    "                           scoring='neg_mean_squared_error', n_jobs=-1, cv=10,\n",
    "                           verbose=0, return_train_score=True)\n",
    "grid_search.fit(X_prepared, y)"
   ]
  },
  {
   "cell_type": "code",
   "execution_count": 90,
   "id": "bcb8cbdf",
   "metadata": {},
   "outputs": [
    {
     "data": {
      "text/plain": [
       "{'max_features': 8, 'n_estimators': 150}"
      ]
     },
     "execution_count": 90,
     "metadata": {},
     "output_type": "execute_result"
    }
   ],
   "source": [
    "grid_search.best_params_"
   ]
  },
  {
   "cell_type": "code",
   "execution_count": 91,
   "id": "0802a86a",
   "metadata": {},
   "outputs": [
    {
     "data": {
      "text/plain": [
       "340.955542676316"
      ]
     },
     "execution_count": 91,
     "metadata": {},
     "output_type": "execute_result"
    }
   ],
   "source": [
    "np.sqrt(-grid_search.best_score_)"
   ]
  },
  {
   "cell_type": "code",
   "execution_count": 92,
   "id": "cf5aa7bd",
   "metadata": {},
   "outputs": [
    {
     "data": {
      "text/plain": [
       "dict_keys(['mean_fit_time', 'std_fit_time', 'mean_score_time', 'std_score_time', 'param_max_features', 'param_n_estimators', 'param_bootstrap', 'params', 'split0_test_score', 'split1_test_score', 'split2_test_score', 'split3_test_score', 'split4_test_score', 'split5_test_score', 'split6_test_score', 'split7_test_score', 'split8_test_score', 'split9_test_score', 'mean_test_score', 'std_test_score', 'rank_test_score', 'split0_train_score', 'split1_train_score', 'split2_train_score', 'split3_train_score', 'split4_train_score', 'split5_train_score', 'split6_train_score', 'split7_train_score', 'split8_train_score', 'split9_train_score', 'mean_train_score', 'std_train_score'])"
      ]
     },
     "execution_count": 92,
     "metadata": {},
     "output_type": "execute_result"
    }
   ],
   "source": [
    "grid_search.cv_results_.keys()"
   ]
  },
  {
   "cell_type": "code",
   "execution_count": 93,
   "id": "59374aca",
   "metadata": {},
   "outputs": [
    {
     "name": "stdout",
     "output_type": "stream",
     "text": [
      "1) mean_score: 651.1566275554303 | std_score: 31240.293752320005 | \n",
      "params: {'max_features': 2, 'n_estimators': 2} \n",
      "\n",
      "2) mean_score: 544.6412694894113 | std_score: 7323.388615400989 | \n",
      "params: {'max_features': 2, 'n_estimators': 10} \n",
      "\n",
      "3) mean_score: 513.3112679720049 | std_score: 5157.589888686265 | \n",
      "params: {'max_features': 2, 'n_estimators': 50} \n",
      "\n",
      "4) mean_score: 511.4075671529039 | std_score: 5212.949690207512 | \n",
      "params: {'max_features': 2, 'n_estimators': 100} \n",
      "\n",
      "5) mean_score: 512.4185456386172 | std_score: 4987.72496530217 | \n",
      "params: {'max_features': 2, 'n_estimators': 150} \n",
      "\n",
      "6) mean_score: 511.9772607659954 | std_score: 4292.168309119494 | \n",
      "params: {'max_features': 2, 'n_estimators': 200} \n",
      "\n",
      "7) mean_score: 449.00576975497984 | std_score: 33486.35003909539 | \n",
      "params: {'max_features': 4, 'n_estimators': 2} \n",
      "\n",
      "8) mean_score: 405.48254195756357 | std_score: 7791.2983805234735 | \n",
      "params: {'max_features': 4, 'n_estimators': 10} \n",
      "\n",
      "9) mean_score: 401.1647547354871 | std_score: 6141.025816740681 | \n",
      "params: {'max_features': 4, 'n_estimators': 50} \n",
      "\n",
      "10) mean_score: 405.943391526769 | std_score: 5229.037410138743 | \n",
      "params: {'max_features': 4, 'n_estimators': 100} \n",
      "\n",
      "11) mean_score: 403.9372109980107 | std_score: 4868.062755317226 | \n",
      "params: {'max_features': 4, 'n_estimators': 150} \n",
      "\n",
      "12) mean_score: 404.52585428839467 | std_score: 4198.991657368244 | \n",
      "params: {'max_features': 4, 'n_estimators': 200} \n",
      "\n",
      "13) mean_score: 444.7417925190244 | std_score: 33422.164069118946 | \n",
      "params: {'max_features': 6, 'n_estimators': 2} \n",
      "\n",
      "14) mean_score: 377.4131128647261 | std_score: 8666.56401106491 | \n",
      "params: {'max_features': 6, 'n_estimators': 10} \n",
      "\n",
      "15) mean_score: 363.56303067147866 | std_score: 4180.535971809112 | \n",
      "params: {'max_features': 6, 'n_estimators': 50} \n",
      "\n",
      "16) mean_score: 358.715583594083 | std_score: 3946.7284774944383 | \n",
      "params: {'max_features': 6, 'n_estimators': 100} \n",
      "\n",
      "17) mean_score: 359.0641958848867 | std_score: 3702.962250091767 | \n",
      "params: {'max_features': 6, 'n_estimators': 150} \n",
      "\n",
      "18) mean_score: 360.51375761133403 | std_score: 3281.8068671649935 | \n",
      "params: {'max_features': 6, 'n_estimators': 200} \n",
      "\n",
      "19) mean_score: 439.2552792468928 | std_score: 31753.33379002924 | \n",
      "params: {'max_features': 8, 'n_estimators': 2} \n",
      "\n",
      "20) mean_score: 368.0381420342321 | std_score: 5596.485005963927 | \n",
      "params: {'max_features': 8, 'n_estimators': 10} \n",
      "\n",
      "21) mean_score: 342.04108968766377 | std_score: 3701.367660310153 | \n",
      "params: {'max_features': 8, 'n_estimators': 50} \n",
      "\n",
      "22) mean_score: 341.12359253473136 | std_score: 3754.0634281337634 | \n",
      "params: {'max_features': 8, 'n_estimators': 100} \n",
      "\n",
      "23) mean_score: 340.955542676316 | std_score: 3646.6342906397813 | \n",
      "params: {'max_features': 8, 'n_estimators': 150} \n",
      "\n",
      "24) mean_score: 344.7741085570971 | std_score: 3212.1394619697126 | \n",
      "params: {'max_features': 8, 'n_estimators': 200} \n",
      "\n",
      "25) mean_score: 373.702269265662 | std_score: 26701.433042209977 | \n",
      "params: {'max_features': 10, 'n_estimators': 2} \n",
      "\n",
      "26) mean_score: 371.85125604107196 | std_score: 3771.5929291369002 | \n",
      "params: {'max_features': 10, 'n_estimators': 10} \n",
      "\n",
      "27) mean_score: 342.9921523959352 | std_score: 3146.404976091448 | \n",
      "params: {'max_features': 10, 'n_estimators': 50} \n",
      "\n",
      "28) mean_score: 341.42300564284386 | std_score: 3510.499991662858 | \n",
      "params: {'max_features': 10, 'n_estimators': 100} \n",
      "\n",
      "29) mean_score: 342.94847823376887 | std_score: 3322.980819906472 | \n",
      "params: {'max_features': 10, 'n_estimators': 150} \n",
      "\n",
      "30) mean_score: 342.9007541056428 | std_score: 3002.078509354572 | \n",
      "params: {'max_features': 10, 'n_estimators': 200} \n",
      "\n",
      "31) mean_score: 558.897890494023 | std_score: 15.107635919733537 | \n",
      "params: {'bootstrap': False, 'max_features': 2, 'n_estimators': 5} \n",
      "\n",
      "32) mean_score: 503.55233140414646 | std_score: 0.6581524530288573 | \n",
      "params: {'bootstrap': False, 'max_features': 2, 'n_estimators': 50} \n",
      "\n",
      "33) mean_score: 494.85452390908597 | std_score: 0.33789440849595664 | \n",
      "params: {'bootstrap': False, 'max_features': 2, 'n_estimators': 100} \n",
      "\n",
      "34) mean_score: 428.2850815302793 | std_score: 1.2941805541832054 | \n",
      "params: {'bootstrap': False, 'max_features': 3, 'n_estimators': 5} \n",
      "\n",
      "35) mean_score: 413.95885654177874 | std_score: 0.13921895040776394 | \n",
      "params: {'bootstrap': False, 'max_features': 3, 'n_estimators': 50} \n",
      "\n",
      "36) mean_score: 416.16403903745885 | std_score: 0.05213779713358959 | \n",
      "params: {'bootstrap': False, 'max_features': 3, 'n_estimators': 100} \n",
      "\n",
      "37) mean_score: 382.6835728452779 | std_score: 0.11996314907494253 | \n",
      "params: {'bootstrap': False, 'max_features': 4, 'n_estimators': 5} \n",
      "\n",
      "38) mean_score: 371.2216243172974 | std_score: 0.024648861117744558 | \n",
      "params: {'bootstrap': False, 'max_features': 4, 'n_estimators': 50} \n",
      "\n",
      "39) mean_score: 377.670195641361 | std_score: 0.013545689247942604 | \n",
      "params: {'bootstrap': False, 'max_features': 4, 'n_estimators': 100} \n",
      "\n",
      "40) mean_score: 430.87693872215704 | std_score: 0.009124096391379264 | \n",
      "params: {'bootstrap': False, 'max_features': 5, 'n_estimators': 5} \n",
      "\n",
      "41) mean_score: 349.27115787873487 | std_score: 0.031030996565863896 | \n",
      "params: {'bootstrap': False, 'max_features': 5, 'n_estimators': 50} \n",
      "\n",
      "42) mean_score: 344.56442982973635 | std_score: 0.007837418841579777 | \n",
      "params: {'bootstrap': False, 'max_features': 5, 'n_estimators': 100} \n",
      "\n"
     ]
    }
   ],
   "source": [
    "gridcv_results = grid_search.cv_results_\n",
    "\n",
    "i = 1\n",
    "for mean_score, std_score, params in zip(gridcv_results['mean_test_score'],\n",
    "                                         gridcv_results['std_train_score'],\n",
    "                                         gridcv_results['params']):\n",
    "  print('{}) mean_score: {} | std_score: {} | \\nparams: {} \\n'\\\n",
    "          .format(i, np.sqrt(-mean_score), std_score, params))\n",
    "  i+=1"
   ]
  },
  {
   "cell_type": "code",
   "execution_count": null,
   "id": "cf8692c5",
   "metadata": {},
   "outputs": [],
   "source": []
  },
  {
   "cell_type": "markdown",
   "id": "0ea80867",
   "metadata": {},
   "source": [
    "## Cross-Validated Randomized Search\n",
    "\n",
    "\n",
    "Command:\n",
    "```bash\n",
    ">> from sklearn.model_selection import RandomizedSearchCV\n",
    "```\n",
    "\n",
    "From your help:\n",
    "\n",
    " _`RandomizedSearchCV` implements a \"fit\" and a \"score\" method. It also implements \"score_samples\", \"predict\", \"predict_proba\",  \"decision_function\", \"transform\" and \"inverse_transform\" if they are implemented in the estimator used. The parameters of the estimator used to apply these methods are optimized by cross-validated search over parameter settings. In contrast to GridSearchCV, not all parameter values are tried out, but rather a fixed number of parameter settings is sampled from the specified distributions. The number of parameter settings that are tried is given by n_iter. If all parameters are presented as a list, sampling without replacement is performed. If at least one parameter is given as a distribution, sampling with replacement is used. It is highly recommended to use continuous distributions for continuous parameters._\n",
    " \n",
    " \n",
    " **Note:** Later try `HalvingRandomSearchCV`:\n",
    " https://scikit-learn.org/stable/modules/generated/sklearn.model_selection.HalvingGridSearchCV.html#sklearn.model_selection.HalvingGridSearchCV"
   ]
  },
  {
   "cell_type": "code",
   "execution_count": 94,
   "id": "071c6647",
   "metadata": {},
   "outputs": [],
   "source": [
    "#help(RandomizedSearchCV)"
   ]
  },
  {
   "cell_type": "code",
   "execution_count": 95,
   "id": "d9e31fde",
   "metadata": {},
   "outputs": [],
   "source": [
    "from sklearn.model_selection import RandomizedSearchCV\n",
    "from scipy.stats import randint # uniform discrete random variable"
   ]
  },
  {
   "cell_type": "code",
   "execution_count": 96,
   "id": "319b8dc0",
   "metadata": {},
   "outputs": [
    {
     "name": "stdout",
     "output_type": "stream",
     "text": [
      "CPU times: user 1 µs, sys: 1 µs, total: 2 µs\n",
      "Wall time: 3.34 µs\n"
     ]
    },
    {
     "data": {
      "text/html": [
       "<style>#sk-container-id-3 {color: black;background-color: white;}#sk-container-id-3 pre{padding: 0;}#sk-container-id-3 div.sk-toggleable {background-color: white;}#sk-container-id-3 label.sk-toggleable__label {cursor: pointer;display: block;width: 100%;margin-bottom: 0;padding: 0.3em;box-sizing: border-box;text-align: center;}#sk-container-id-3 label.sk-toggleable__label-arrow:before {content: \"▸\";float: left;margin-right: 0.25em;color: #696969;}#sk-container-id-3 label.sk-toggleable__label-arrow:hover:before {color: black;}#sk-container-id-3 div.sk-estimator:hover label.sk-toggleable__label-arrow:before {color: black;}#sk-container-id-3 div.sk-toggleable__content {max-height: 0;max-width: 0;overflow: hidden;text-align: left;background-color: #f0f8ff;}#sk-container-id-3 div.sk-toggleable__content pre {margin: 0.2em;color: black;border-radius: 0.25em;background-color: #f0f8ff;}#sk-container-id-3 input.sk-toggleable__control:checked~div.sk-toggleable__content {max-height: 200px;max-width: 100%;overflow: auto;}#sk-container-id-3 input.sk-toggleable__control:checked~label.sk-toggleable__label-arrow:before {content: \"▾\";}#sk-container-id-3 div.sk-estimator input.sk-toggleable__control:checked~label.sk-toggleable__label {background-color: #d4ebff;}#sk-container-id-3 div.sk-label input.sk-toggleable__control:checked~label.sk-toggleable__label {background-color: #d4ebff;}#sk-container-id-3 input.sk-hidden--visually {border: 0;clip: rect(1px 1px 1px 1px);clip: rect(1px, 1px, 1px, 1px);height: 1px;margin: -1px;overflow: hidden;padding: 0;position: absolute;width: 1px;}#sk-container-id-3 div.sk-estimator {font-family: monospace;background-color: #f0f8ff;border: 1px dotted black;border-radius: 0.25em;box-sizing: border-box;margin-bottom: 0.5em;}#sk-container-id-3 div.sk-estimator:hover {background-color: #d4ebff;}#sk-container-id-3 div.sk-parallel-item::after {content: \"\";width: 100%;border-bottom: 1px solid gray;flex-grow: 1;}#sk-container-id-3 div.sk-label:hover label.sk-toggleable__label {background-color: #d4ebff;}#sk-container-id-3 div.sk-serial::before {content: \"\";position: absolute;border-left: 1px solid gray;box-sizing: border-box;top: 0;bottom: 0;left: 50%;z-index: 0;}#sk-container-id-3 div.sk-serial {display: flex;flex-direction: column;align-items: center;background-color: white;padding-right: 0.2em;padding-left: 0.2em;position: relative;}#sk-container-id-3 div.sk-item {position: relative;z-index: 1;}#sk-container-id-3 div.sk-parallel {display: flex;align-items: stretch;justify-content: center;background-color: white;position: relative;}#sk-container-id-3 div.sk-item::before, #sk-container-id-3 div.sk-parallel-item::before {content: \"\";position: absolute;border-left: 1px solid gray;box-sizing: border-box;top: 0;bottom: 0;left: 50%;z-index: -1;}#sk-container-id-3 div.sk-parallel-item {display: flex;flex-direction: column;z-index: 1;position: relative;background-color: white;}#sk-container-id-3 div.sk-parallel-item:first-child::after {align-self: flex-end;width: 50%;}#sk-container-id-3 div.sk-parallel-item:last-child::after {align-self: flex-start;width: 50%;}#sk-container-id-3 div.sk-parallel-item:only-child::after {width: 0;}#sk-container-id-3 div.sk-dashed-wrapped {border: 1px dashed gray;margin: 0 0.4em 0.5em 0.4em;box-sizing: border-box;padding-bottom: 0.4em;background-color: white;}#sk-container-id-3 div.sk-label label {font-family: monospace;font-weight: bold;display: inline-block;line-height: 1.2em;}#sk-container-id-3 div.sk-label-container {text-align: center;}#sk-container-id-3 div.sk-container {/* jupyter's `normalize.less` sets `[hidden] { display: none; }` but bootstrap.min.css set `[hidden] { display: none !important; }` so we also need the `!important` here to be able to override the default hidden behavior on the sphinx rendered scikit-learn.org. See: https://github.com/scikit-learn/scikit-learn/issues/21755 */display: inline-block !important;position: relative;}#sk-container-id-3 div.sk-text-repr-fallback {display: none;}</style><div id=\"sk-container-id-3\" class=\"sk-top-container\"><div class=\"sk-text-repr-fallback\"><pre>RandomizedSearchCV(cv=10, estimator=RandomForestRegressor(random_state=42),\n",
       "                   n_jobs=-1,\n",
       "                   param_distributions={&#x27;max_features&#x27;: &lt;scipy.stats._distn_infrastructure.rv_frozen object at 0x7efdb85d4790&gt;,\n",
       "                                        &#x27;n_estimators&#x27;: &lt;scipy.stats._distn_infrastructure.rv_frozen object at 0x7efdb85b0bb0&gt;},\n",
       "                   random_state=42, scoring=&#x27;neg_mean_squared_error&#x27;)</pre><b>In a Jupyter environment, please rerun this cell to show the HTML representation or trust the notebook. <br />On GitHub, the HTML representation is unable to render, please try loading this page with nbviewer.org.</b></div><div class=\"sk-container\" hidden><div class=\"sk-item sk-dashed-wrapped\"><div class=\"sk-label-container\"><div class=\"sk-label sk-toggleable\"><input class=\"sk-toggleable__control sk-hidden--visually\" id=\"sk-estimator-id-5\" type=\"checkbox\" ><label for=\"sk-estimator-id-5\" class=\"sk-toggleable__label sk-toggleable__label-arrow\">RandomizedSearchCV</label><div class=\"sk-toggleable__content\"><pre>RandomizedSearchCV(cv=10, estimator=RandomForestRegressor(random_state=42),\n",
       "                   n_jobs=-1,\n",
       "                   param_distributions={&#x27;max_features&#x27;: &lt;scipy.stats._distn_infrastructure.rv_frozen object at 0x7efdb85d4790&gt;,\n",
       "                                        &#x27;n_estimators&#x27;: &lt;scipy.stats._distn_infrastructure.rv_frozen object at 0x7efdb85b0bb0&gt;},\n",
       "                   random_state=42, scoring=&#x27;neg_mean_squared_error&#x27;)</pre></div></div></div><div class=\"sk-parallel\"><div class=\"sk-parallel-item\"><div class=\"sk-item\"><div class=\"sk-label-container\"><div class=\"sk-label sk-toggleable\"><input class=\"sk-toggleable__control sk-hidden--visually\" id=\"sk-estimator-id-6\" type=\"checkbox\" ><label for=\"sk-estimator-id-6\" class=\"sk-toggleable__label sk-toggleable__label-arrow\">estimator: RandomForestRegressor</label><div class=\"sk-toggleable__content\"><pre>RandomForestRegressor(random_state=42)</pre></div></div></div><div class=\"sk-serial\"><div class=\"sk-item\"><div class=\"sk-estimator sk-toggleable\"><input class=\"sk-toggleable__control sk-hidden--visually\" id=\"sk-estimator-id-7\" type=\"checkbox\" ><label for=\"sk-estimator-id-7\" class=\"sk-toggleable__label sk-toggleable__label-arrow\">RandomForestRegressor</label><div class=\"sk-toggleable__content\"><pre>RandomForestRegressor(random_state=42)</pre></div></div></div></div></div></div></div></div></div></div>"
      ],
      "text/plain": [
       "RandomizedSearchCV(cv=10, estimator=RandomForestRegressor(random_state=42),\n",
       "                   n_jobs=-1,\n",
       "                   param_distributions={'max_features': <scipy.stats._distn_infrastructure.rv_frozen object at 0x7efdb85d4790>,\n",
       "                                        'n_estimators': <scipy.stats._distn_infrastructure.rv_frozen object at 0x7efdb85b0bb0>},\n",
       "                   random_state=42, scoring='neg_mean_squared_error')"
      ]
     },
     "execution_count": 96,
     "metadata": {},
     "output_type": "execute_result"
    }
   ],
   "source": [
    "%time\n",
    "\n",
    "param_distribs = {'n_estimators': randint(low=1, high=200), 'max_features': randint(low=1, high=10)}\n",
    "\n",
    "random_search = RandomizedSearchCV(estimator=model_list[2], param_distributions=param_distribs, \n",
    "                                   n_iter=10, scoring='neg_mean_squared_error',\n",
    "                                   n_jobs=-1, cv=10, random_state=42)\n",
    "random_search.fit(X_prepared, y)"
   ]
  },
  {
   "cell_type": "code",
   "execution_count": 97,
   "id": "859c22e0",
   "metadata": {},
   "outputs": [
    {
     "data": {
      "text/plain": [
       "{'max_features': 8, 'n_estimators': 131}"
      ]
     },
     "execution_count": 97,
     "metadata": {},
     "output_type": "execute_result"
    }
   ],
   "source": [
    "random_search.best_params_"
   ]
  },
  {
   "cell_type": "code",
   "execution_count": 98,
   "id": "d45c1344",
   "metadata": {},
   "outputs": [
    {
     "data": {
      "text/plain": [
       "340.71578320960504"
      ]
     },
     "execution_count": 98,
     "metadata": {},
     "output_type": "execute_result"
    }
   ],
   "source": [
    "np.sqrt(-random_search.best_score_)"
   ]
  },
  {
   "cell_type": "markdown",
   "id": "ff20881c",
   "metadata": {},
   "source": [
    "Tuning with GridSeacrhCV give a less RMSE error."
   ]
  },
  {
   "cell_type": "code",
   "execution_count": 99,
   "id": "c00a0f5a",
   "metadata": {},
   "outputs": [
    {
     "data": {
      "text/plain": [
       "340.955542676316"
      ]
     },
     "execution_count": 99,
     "metadata": {},
     "output_type": "execute_result"
    }
   ],
   "source": [
    "# recalculate error with GridSearchCV\n",
    "np.sqrt(-grid_search.best_score_)"
   ]
  },
  {
   "cell_type": "code",
   "execution_count": null,
   "id": "743308a1",
   "metadata": {},
   "outputs": [],
   "source": []
  },
  {
   "cell_type": "code",
   "execution_count": 100,
   "id": "ad45303e",
   "metadata": {},
   "outputs": [
    {
     "data": {
      "text/plain": [
       "dict_keys(['mean_fit_time', 'std_fit_time', 'mean_score_time', 'std_score_time', 'param_max_features', 'param_n_estimators', 'params', 'split0_test_score', 'split1_test_score', 'split2_test_score', 'split3_test_score', 'split4_test_score', 'split5_test_score', 'split6_test_score', 'split7_test_score', 'split8_test_score', 'split9_test_score', 'mean_test_score', 'std_test_score', 'rank_test_score'])"
      ]
     },
     "execution_count": 100,
     "metadata": {},
     "output_type": "execute_result"
    }
   ],
   "source": [
    "random_search.cv_results_.keys()"
   ]
  },
  {
   "cell_type": "code",
   "execution_count": 101,
   "id": "345d2059",
   "metadata": {},
   "outputs": [
    {
     "name": "stdout",
     "output_type": "stream",
     "text": [
      "1) mean_score: 355.50464708770926 | std_score: 193453.3348656178 | \n",
      "params: {'max_features': 7, 'n_estimators': 180} \n",
      "\n",
      "2) mean_score: 344.81919758848414 | std_score: 175357.4604316705 | \n",
      "params: {'max_features': 8, 'n_estimators': 189} \n",
      "\n",
      "3) mean_score: 386.6991430765459 | std_score: 235901.55010728646 | \n",
      "params: {'max_features': 5, 'n_estimators': 103} \n",
      "\n",
      "4) mean_score: 427.125881731423 | std_score: 279140.5654464101 | \n",
      "params: {'max_features': 3, 'n_estimators': 75} \n",
      "\n",
      "5) mean_score: 341.7511981559335 | std_score: 169208.41985541093 | \n",
      "params: {'max_features': 8, 'n_estimators': 117} \n",
      "\n",
      "6) mean_score: 408.820302767913 | std_score: 276120.57168320165 | \n",
      "params: {'max_features': 4, 'n_estimators': 104} \n",
      "\n",
      "7) mean_score: 340.71578320960504 | std_score: 168036.7920876853 | \n",
      "params: {'max_features': 8, 'n_estimators': 131} \n",
      "\n",
      "8) mean_score: 362.4780611965562 | std_score: 197605.56943177021 | \n",
      "params: {'max_features': 6, 'n_estimators': 53} \n",
      "\n",
      "9) mean_score: 513.8705660867596 | std_score: 347774.49014858966 | \n",
      "params: {'max_features': 2, 'n_estimators': 88} \n",
      "\n",
      "10) mean_score: 361.99347299039636 | std_score: 202619.00965588322 | \n",
      "params: {'max_features': 6, 'n_estimators': 130} \n",
      "\n"
     ]
    }
   ],
   "source": [
    "rscv_results = random_search.cv_results_\n",
    "i = 1\n",
    "for mean_score, std_score, params in zip(rscv_results['mean_test_score'], \n",
    "                                         rscv_results['std_test_score'], \n",
    "                                         rscv_results['params']):\n",
    "  print('{}) mean_score: {} | std_score: {} | \\nparams: {} \\n'\\\n",
    "          .format(i, np.sqrt(-mean_score), std_score, params))\n",
    "  i+=1"
   ]
  },
  {
   "cell_type": "code",
   "execution_count": null,
   "id": "910a785e",
   "metadata": {},
   "outputs": [],
   "source": []
  },
  {
   "cell_type": "markdown",
   "id": "daed9ac7",
   "metadata": {},
   "source": [
    "# Define final model based on tuning\n",
    "\n",
    "___"
   ]
  },
  {
   "cell_type": "code",
   "execution_count": 102,
   "id": "3d63b6c0",
   "metadata": {},
   "outputs": [
    {
     "name": "stdout",
     "output_type": "stream",
     "text": [
      "Model selected: RandomForestRegressor(random_state=42).\n",
      "\n",
      "Final RMSE (training set) = 124.39293585597498\n",
      "Final MAE (training set) = 25.316239136365414\n",
      "Final RMSE (test set) = 206.0793667739765\n",
      "Final MAE (test set) = 61.430712170796326\n"
     ]
    }
   ],
   "source": [
    "final_model = grid_search.best_estimator_\n",
    "\n",
    "# prediction over training set\n",
    "final_preds_train = final_model.predict(X_prepared)\n",
    "final_rmse_train = np.sqrt(mean_squared_error(y, final_preds_train))\n",
    "final_mae_train = mean_absolute_error(y, final_preds_train)\n",
    "\n",
    "# prediction over test set\n",
    "final_preds = final_model.predict(X_test_prepared)\n",
    "final_rmse = np.sqrt(mean_squared_error(y_test, final_preds))\n",
    "final_mae = mean_absolute_error(y_test, final_preds)\n",
    "\n",
    "print('Model selected: {}.\\n'.format(model_list[2]))\n",
    "\n",
    "print('Final RMSE (training set) =', final_rmse_train)\n",
    "print('Final MAE (training set) =', final_mae_train)\n",
    "print('Final RMSE (test set) =', final_rmse)\n",
    "print('Final MAE (test set) =', final_mae)"
   ]
  },
  {
   "cell_type": "code",
   "execution_count": null,
   "id": "c0f106b1",
   "metadata": {},
   "outputs": [],
   "source": []
  },
  {
   "cell_type": "markdown",
   "id": "1fddcf14",
   "metadata": {},
   "source": [
    "# Next steps:\n",
    "\n",
    "___\n",
    "\n",
    "**Add:**\n",
    "\n",
    "- step with web scraping in some sites\n",
    "\n",
    "- pipeline with data prep, models, tuning, deploy (outputs in JSON)\n",
    "\n",
    "-  summary for navigation\n",
    "\n",
    "- generate a framework picture of the problem/sub-problems (e.g., web scraping, monitoring errors, alerts, etc.).\n",
    "\n",
    "- something with frameworks (Flask, Django, others)\n",
    "\n",
    "- new models (e.g. Logistic Regression, LGBM, SVM, etc.)\n",
    "\n",
    "- maybe try Plotly, Seaborn, Matplotlib(with set params) and others for graphs\n",
    "\n"
   ]
  },
  {
   "cell_type": "code",
   "execution_count": null,
   "id": "060c1143",
   "metadata": {},
   "outputs": [],
   "source": []
  }
 ],
 "metadata": {
  "kernelspec": {
   "display_name": "Python 3 (ipykernel)",
   "language": "python",
   "name": "python3"
  },
  "language_info": {
   "codemirror_mode": {
    "name": "ipython",
    "version": 3
   },
   "file_extension": ".py",
   "mimetype": "text/x-python",
   "name": "python",
   "nbconvert_exporter": "python",
   "pygments_lexer": "ipython3",
   "version": "3.8.11"
  }
 },
 "nbformat": 4,
 "nbformat_minor": 5
}
